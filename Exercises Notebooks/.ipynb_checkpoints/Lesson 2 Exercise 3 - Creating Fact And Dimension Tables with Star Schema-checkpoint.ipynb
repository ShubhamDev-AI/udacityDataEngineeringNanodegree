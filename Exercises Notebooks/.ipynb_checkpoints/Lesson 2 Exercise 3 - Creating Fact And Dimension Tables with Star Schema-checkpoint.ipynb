{
 "cells": [
  {
   "cell_type": "code",
   "execution_count": 1,
   "metadata": {},
   "outputs": [],
   "source": [
    "import psycopg2\n",
    "import os"
   ]
  },
  {
   "cell_type": "code",
   "execution_count": 3,
   "metadata": {},
   "outputs": [],
   "source": [
    "host = '127.0.0.1'\n",
    "port = 5432\n",
    "dbname = 'udacity'\n",
    "user = os.environ[\"POSTGRES_USER\"]\n",
    "password = os.environ[\"POSTGRES_PASSWORD\"]\n",
    "\n",
    "connection = psycopg2.connect(\n",
    "     host = host\n",
    "    ,port = 5432\n",
    "    ,dbname = dbname\n",
    "    ,user = user\n",
    "    ,password = password\n",
    " )\n",
    "\n",
    "cursor = connection.cursor()"
   ]
  },
  {
   "cell_type": "code",
   "execution_count": null,
   "metadata": {},
   "outputs": [],
   "source": [
    "\n"
   ]
  }
 ],
 "metadata": {
  "kernelspec": {
   "display_name": "Python 3",
   "language": "python",
   "name": "python3"
  },
  "language_info": {
   "codemirror_mode": {
    "name": "ipython",
    "version": 3
   },
   "file_extension": ".py",
   "mimetype": "text/x-python",
   "name": "python",
   "nbconvert_exporter": "python",
   "pygments_lexer": "ipython3",
   "version": "3.7.3"
  }
 },
 "nbformat": 4,
 "nbformat_minor": 2
}
