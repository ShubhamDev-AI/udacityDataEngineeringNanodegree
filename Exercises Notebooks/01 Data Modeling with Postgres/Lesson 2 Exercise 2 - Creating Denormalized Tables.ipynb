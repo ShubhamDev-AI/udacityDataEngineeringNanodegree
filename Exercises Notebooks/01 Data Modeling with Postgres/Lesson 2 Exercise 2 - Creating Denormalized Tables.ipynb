{
 "cells": [
  {
   "cell_type": "code",
   "execution_count": 1,
   "metadata": {},
   "outputs": [],
   "source": [
    "import psycopg2\n",
    "import os"
   ]
  },
  {
   "cell_type": "code",
   "execution_count": 10,
   "metadata": {},
   "outputs": [],
   "source": [
    "\n",
    "host = os.environ[\"PGHOST\"]\n",
    "port = os.environ[\"PGPORT\"]\n",
    "dbname = 'udacity'\n",
    "user = os.environ[\"PGUSER\"]\n",
    "password = os.environ[\"PGPASSWORD\"]\n",
    "\n",
    "try:\n",
    "    connection = psycopg2.connect(\n",
    "         host = host\n",
    "        ,port = port\n",
    "        ,dbname = dbname\n",
    "        ,user = user\n",
    "        ,password = password\n",
    "     )\n",
    "    \n",
    "    connection.set_session(autocommit=True)\n",
    "    \n",
    "except psycopg2.Error as error:\n",
    "    print(\"Error: could not connect to Postgres\")\n",
    "    print(error)\n",
    "\n",
    "try:\n",
    "    cursor = connection.cursor()\n",
    "    \n",
    "except psycopg2.Error as error:\n",
    "    print(\"Error: could not get cursor to the Database\")\n",
    "    print(error)"
   ]
  },
  {
   "cell_type": "markdown",
   "metadata": {},
   "source": [
    "#### create the `sales` table"
   ]
  },
  {
   "cell_type": "code",
   "execution_count": 15,
   "metadata": {},
   "outputs": [],
   "source": [
    "\n",
    "try:\n",
    "    cursor.execute(\n",
    "        \"\"\"\n",
    "            DROP TABLE IF EXISTS\n",
    "                public.sales\n",
    "            ;\n",
    "\n",
    "            CREATE TABLE\n",
    "                public.sales(\n",
    "                     transaction_id SMALLINT\n",
    "                    ,amount_spent FLOAT8\n",
    "                )\n",
    "        \"\"\"\n",
    "    )\n",
    "    \n",
    "except psycopg2.Error as error:\n",
    "    print(\"Error: issue creating table\")\n",
    "    print(error)"
   ]
  },
  {
   "cell_type": "markdown",
   "metadata": {},
   "source": [
    "#### insert data into the `sales` table"
   ]
  },
  {
   "cell_type": "code",
   "execution_count": 17,
   "metadata": {},
   "outputs": [],
   "source": [
    "\n",
    "sales_data = [\n",
    "     (1,40)\n",
    "    ,(2,19)\n",
    "    ,(3,45)\n",
    "]\n",
    "\n",
    "insert_into_sales_statement = \"\"\"\n",
    "    INSERT INTO\n",
    "        public.sales(\n",
    "             transaction_id\n",
    "            ,amount_spent\n",
    "        )\n",
    "        \n",
    "    VALUES(\n",
    "         %s\n",
    "        ,%s\n",
    "    )\n",
    "\"\"\"\n",
    "\n",
    "try:\n",
    "    cursor.executemany( \n",
    "        insert_into_sales_statement\n",
    "       ,sales_data\n",
    "    )\n",
    "    \n",
    "except psycopg2.Error as error:\n",
    "    print(\"Error: could not insert data\")\n",
    "    print(error)"
   ]
  },
  {
   "cell_type": "markdown",
   "metadata": {},
   "source": [
    "#### select statements are prepared\n",
    "for table contents validation ahead:"
   ]
  },
  {
   "cell_type": "code",
   "execution_count": 18,
   "metadata": {},
   "outputs": [],
   "source": [
    "\n",
    "transactions_3nf_select_statement = \"\"\"\n",
    "    SELECT\n",
    "        *\n",
    "        \n",
    "    FROM\n",
    "        public.transactions_3nf\n",
    "\"\"\"\n",
    "\n",
    "albums_sold_select_statement = \"\"\"\n",
    "    SELECT\n",
    "        *\n",
    "        \n",
    "    FROM\n",
    "        public.albums_sold\n",
    "\"\"\"\n",
    "\n",
    "employees_select_statement = \"\"\"\n",
    "    SELECT\n",
    "        *\n",
    "        \n",
    "    FROM\n",
    "        public.employees\n",
    "\"\"\"\n",
    "\n",
    "sales_select_statement = \"\"\"\n",
    "    SELECT\n",
    "        *\n",
    "        \n",
    "    FROM\n",
    "        public.sales\n",
    "\"\"\"\n"
   ]
  },
  {
   "cell_type": "code",
   "execution_count": 24,
   "metadata": {},
   "outputs": [],
   "source": [
    "\n",
    "table_names = [\n",
    "     'transactions_3nf'\n",
    "    ,'albums_sold'\n",
    "    ,'employees'\n",
    "    ,'sales'\n",
    "]\n",
    "\n",
    "select_statements_list = [\n",
    "     transactions_3nf_select_statement\n",
    "    ,albums_sold_select_statement\n",
    "    ,employees_select_statement\n",
    "    ,sales_select_statement\n",
    "]"
   ]
  },
  {
   "cell_type": "code",
   "execution_count": 31,
   "metadata": {},
   "outputs": [
    {
     "name": "stdout",
     "output_type": "stream",
     "text": [
      "\n",
      " retrieving data from: transactions_3nf\n",
      "\n",
      "(1, 'Amanda', 1, 2000)\n",
      "(2, 'Toby', 1, 2000)\n",
      "(3, 'Max', 2, 2018)\n",
      "\n",
      " retrieving data from: albums_sold\n",
      "\n",
      "(1, 1, 'Rubber Soul')\n",
      "(2, 1, 'Let it Be')\n",
      "(3, 2, 'My Generation')\n",
      "(4, 3, 'Meet the Beatles')\n",
      "(5, 3, 'Help!')\n",
      "\n",
      " retrieving data from: employees\n",
      "\n",
      "(1, 'Sam')\n",
      "(2, 'Bob')\n",
      "\n",
      " retrieving data from: sales\n",
      "\n",
      "(1, 40.0)\n",
      "(2, 19.0)\n",
      "(3, 45.0)\n"
     ]
    }
   ],
   "source": [
    "\n",
    "for table, statement in zip(table_names, select_statements_list):\n",
    "    \n",
    "    print('\\n retrieving data from: ' + table + '\\n')\n",
    "    \n",
    "    try:\n",
    "        cursor.execute(statement)\n",
    "        \n",
    "        row = cursor.fetchone()\n",
    "        \n",
    "        while row:\n",
    "            print(row)\n",
    "            row = cursor.fetchone()        \n",
    "        \n",
    "    except psycopg2.Error as error:\n",
    "        print(\"Error retrieving data\")\n",
    "        print(error)\n",
    "    "
   ]
  },
  {
   "cell_type": "markdown",
   "metadata": {},
   "source": [
    "#### write a `SELECT` statement\n",
    "that returns the columns below:  \n",
    "`transaction_id`  \n",
    "`customer_name`  \n",
    "`cashier_name`  \n",
    "`year`  \n",
    "`albums_sold`  \n",
    "`amount_sold`  "
   ]
  },
  {
   "cell_type": "code",
   "execution_count": 38,
   "metadata": {},
   "outputs": [],
   "source": [
    "\n",
    "first_denormalized_select_statement = \"\"\"\n",
    "    SELECT\n",
    "         transactions.transaction_id\n",
    "        ,transactions.customer_name\n",
    "        ,employees.employee_name AS cashier_name\n",
    "        ,transactions.year\n",
    "        ,albums_sold.album_name\n",
    "        ,sales.amount_spent AS amount_sold\n",
    "        \n",
    "    FROM\n",
    "        public.transactions_3nf AS transactions\n",
    "        \n",
    "    LEFT JOIN\n",
    "        public.employees AS employees\n",
    "        \n",
    "    ON\n",
    "        transactions.employee_id\n",
    "        =\n",
    "        employees.employee_id\n",
    "        \n",
    "    LEFT JOIN\n",
    "        public.albums_sold AS albums_sold\n",
    "        \n",
    "    ON\n",
    "        transactions.transaction_id\n",
    "        =\n",
    "        albums_sold.transaction_id\n",
    "        \n",
    "    LEFT JOIN\n",
    "        public.sales AS sales\n",
    "        \n",
    "    ON\n",
    "        transactions.transaction_id\n",
    "        =\n",
    "        sales.transaction_id\n",
    "\"\"\""
   ]
  },
  {
   "cell_type": "code",
   "execution_count": 40,
   "metadata": {},
   "outputs": [
    {
     "name": "stdout",
     "output_type": "stream",
     "text": [
      "(1, 'Amanda', 'Sam', 2000, 'Rubber Soul', 40.0)\n",
      "(1, 'Amanda', 'Sam', 2000, 'Let it Be', 40.0)\n",
      "(2, 'Toby', 'Sam', 2000, 'My Generation', 19.0)\n",
      "(3, 'Max', 'Bob', 2018, 'Meet the Beatles', 45.0)\n",
      "(3, 'Max', 'Bob', 2018, 'Help!', 45.0)\n"
     ]
    }
   ],
   "source": [
    "\n",
    "try:\n",
    "    cursor.execute(first_denormalized_select_statement)\n",
    "    \n",
    "    row = cursor.fetchone()\n",
    "    \n",
    "    while row:\n",
    "        print(row)\n",
    "        row = cursor.fetchone()\n",
    "    \n",
    "except psycopg2.Error as error:\n",
    "    print(\"Error: couldn't retrieve data\")\n",
    "    print(error)"
   ]
  },
  {
   "cell_type": "markdown",
   "metadata": {},
   "source": [
    "#### add the `amount_spent` columns\n",
    "to the `transactions_3nf` table"
   ]
  },
  {
   "cell_type": "code",
   "execution_count": 47,
   "metadata": {},
   "outputs": [],
   "source": [
    "\n",
    "create_table_denormalized_transactions_statement = \"\"\"\n",
    "    DROP TABLE IF EXISTS\n",
    "        public.denormalized_transactions\n",
    "    ;\n",
    "    \n",
    "    CREATE TABLE\n",
    "        public.denormalized_transactions(\n",
    "             transaction_id SMALLINT\n",
    "            ,customer_name TEXT\n",
    "            ,employee_id SMALLINT\n",
    "            ,year INTEGER\n",
    "            ,amount_spent FLOAT8\n",
    "        )\n",
    "\"\"\"\n",
    "\n",
    "denormalized_transactions_query = \"\"\"\n",
    "    TRUNCATE TABLE\n",
    "        public.denormalized_transactions\n",
    "    ;\n",
    "    \n",
    "    INSERT INTO\n",
    "        public.denormalized_transactions(\n",
    "             transaction_id\n",
    "            ,customer_name\n",
    "            ,employee_id\n",
    "            ,year\n",
    "            ,amount_spent\n",
    "        )\n",
    "        \n",
    "    SELECT\n",
    "         transactions.transaction_id\n",
    "        ,transactions.customer_name\n",
    "        ,transactions.employee_id\n",
    "        ,transactions.year\n",
    "        ,sales.amount_spent\n",
    "        \n",
    "    FROM\n",
    "        public.transactions_3nf AS transactions\n",
    "        \n",
    "    LEFT JOIN\n",
    "        public.sales AS sales\n",
    "        \n",
    "    ON\n",
    "        transactions.transaction_id\n",
    "        =\n",
    "        sales.transaction_id\n",
    "\"\"\"\n",
    "\n"
   ]
  },
  {
   "cell_type": "markdown",
   "metadata": {},
   "source": [
    "#### create the `denormalized_transactions` table"
   ]
  },
  {
   "cell_type": "code",
   "execution_count": 49,
   "metadata": {},
   "outputs": [],
   "source": [
    "\n",
    "try:\n",
    "    cursor.execute(create_table_denormalized_transactions_statement)\n",
    "    \n",
    "except psycopg2.Error as error:\n",
    "    print(\"Error: couldn't create table\")\n",
    "    print(error)"
   ]
  },
  {
   "cell_type": "markdown",
   "metadata": {},
   "source": [
    "#### insert data\n",
    "into the `denormalized_transactions` table"
   ]
  },
  {
   "cell_type": "code",
   "execution_count": 52,
   "metadata": {},
   "outputs": [],
   "source": [
    "\n",
    "try:\n",
    "    cursor.execute(denormalized_transactions_query)\n",
    "   \n",
    "except psycopg2.Error as error:\n",
    "    print(\"Error: couldn't retrieve data\")\n",
    "    print(error)"
   ]
  },
  {
   "cell_type": "markdown",
   "metadata": {},
   "source": [
    "#### run the first query\n",
    "required by the exercise:  \n",
    "`SELECT transaction_id, customer_name, amount_spent FROM ...`"
   ]
  },
  {
   "cell_type": "code",
   "execution_count": 53,
   "metadata": {},
   "outputs": [],
   "source": [
    "\n",
    "first_exercise_query = \"\"\"\n",
    "    SELECT\n",
    "         transaction_id\n",
    "        ,customer_name\n",
    "        ,amount_spent\n",
    "        \n",
    "    FROM\n",
    "        public.denormalized_transactions\n",
    "\"\"\""
   ]
  },
  {
   "cell_type": "code",
   "execution_count": 55,
   "metadata": {},
   "outputs": [
    {
     "name": "stdout",
     "output_type": "stream",
     "text": [
      "(1, 'Amanda', 40.0)\n",
      "(2, 'Toby', 19.0)\n",
      "(3, 'Max', 45.0)\n"
     ]
    }
   ],
   "source": [
    "\n",
    "try:\n",
    "    cursor.execute(first_exercise_query)\n",
    "    \n",
    "    row = cursor.fetchone()\n",
    "    \n",
    "    while row:\n",
    "        print(row)\n",
    "        row = cursor.fetchone()\n",
    "    \n",
    "except psycopg2.Error as error:\n",
    "    print(\"Error: couldn't retrieve data\")\n",
    "    print(error)"
   ]
  },
  {
   "cell_type": "markdown",
   "metadata": {},
   "source": [
    "#### the second exercise query is:\n",
    "`SELECT cashier_name, SUM(amount_spent) FROM ... GROUP BY cashier_name`  \n",
    "  \n",
    "the `cashier_sales` table must be created containing the following columns:  \n",
    "`transaction_id`  \n",
    "`cashier_name`  \n",
    "`cashier_id`  \n",
    "`amount_spent` \n"
   ]
  },
  {
   "cell_type": "code",
   "execution_count": 58,
   "metadata": {},
   "outputs": [],
   "source": [
    "\n",
    "create_table_cashier_sales_statement = \"\"\"\n",
    "    DROP TABLE IF EXISTS\n",
    "        public.cashier_sales\n",
    "    ;\n",
    "    \n",
    "    CREATE TABLE\n",
    "        public.cashier_sales(\n",
    "             transaction_id SMALLINT\n",
    "            ,cashier_name TEXT\n",
    "            ,cashier_id SMALLINT\n",
    "            ,amount_spent FLOAT8\n",
    "        )\n",
    "    ;\n",
    "\"\"\"\n",
    "\n",
    "insert_into_cashier_sales_table = \"\"\"\n",
    "    TRUNCATE TABLE\n",
    "        public.cashier_sales\n",
    "    ;\n",
    "    \n",
    "    INSERT INTO\n",
    "        public.cashier_sales(\n",
    "             transaction_id\n",
    "            ,cashier_name\n",
    "            ,cashier_id\n",
    "            ,amount_spent\n",
    "        )\n",
    "    \n",
    "    SELECT\n",
    "         transactions.transaction_id\n",
    "        ,employees.employee_name AS cashier_name\n",
    "        ,transactions.employee_id AS cashier_id\n",
    "        ,transactions.amount_spent\n",
    "        \n",
    "    FROM\n",
    "        public.denormalized_transactions AS transactions\n",
    "        \n",
    "    INNER JOIN\n",
    "        public.employees AS employees\n",
    "        \n",
    "    ON\n",
    "        transactions.employee_id\n",
    "        =\n",
    "        employees.employee_id\n",
    "\"\"\""
   ]
  },
  {
   "cell_type": "markdown",
   "metadata": {},
   "source": [
    "#### create the `cashier_sales` table"
   ]
  },
  {
   "cell_type": "code",
   "execution_count": 59,
   "metadata": {},
   "outputs": [],
   "source": [
    "\n",
    "try:\n",
    "    cursor.execute(create_table_cashier_sales_statement)\n",
    "    \n",
    "except psycopg2.Error as error:\n",
    "    print(\"Error: couldn't create table\")\n",
    "    print(error)"
   ]
  },
  {
   "cell_type": "markdown",
   "metadata": {},
   "source": [
    "#### then insert data\n",
    "into `cashier_sales`"
   ]
  },
  {
   "cell_type": "code",
   "execution_count": 60,
   "metadata": {},
   "outputs": [],
   "source": [
    "\n",
    "try:\n",
    "    cursor.execute(insert_into_cashier_sales_table)\n",
    "    \n",
    "except psycopg2.Error as error:\n",
    "    print(\"Error: couldn't insert data\")\n",
    "    print(error)"
   ]
  },
  {
   "cell_type": "markdown",
   "metadata": {},
   "source": [
    "#### finally execute the required query:"
   ]
  },
  {
   "cell_type": "code",
   "execution_count": 63,
   "metadata": {},
   "outputs": [
    {
     "name": "stdout",
     "output_type": "stream",
     "text": [
      "('Sam', 59.0)\n",
      "('Bob', 45.0)\n"
     ]
    }
   ],
   "source": [
    "\n",
    "second_exercise_query = \"\"\"\n",
    "    SELECT\n",
    "         cashier_name\n",
    "        ,SUM(amount_spent) AS amount_spent\n",
    "        \n",
    "    FROM\n",
    "        public.cashier_sales\n",
    "        \n",
    "    GROUP BY\n",
    "        cashier_name\n",
    "\"\"\"\n",
    "\n",
    "try:\n",
    "    cursor.execute(second_exercise_query)\n",
    "    \n",
    "    row = cursor.fetchone()\n",
    "    \n",
    "    while row:\n",
    "        print(row)\n",
    "        \n",
    "        row = cursor.fetchone()\n",
    "        \n",
    "except psycopg2.Error as error:\n",
    "    print(\"Error: couldn't fetch data\")\n",
    "    print(error)"
   ]
  },
  {
   "cell_type": "code",
   "execution_count": 64,
   "metadata": {},
   "outputs": [],
   "source": [
    "\n",
    "cursor.close()\n",
    "connection.close()"
   ]
  },
  {
   "cell_type": "code",
   "execution_count": null,
   "metadata": {},
   "outputs": [],
   "source": []
  }
 ],
 "metadata": {
  "kernelspec": {
   "display_name": "Python 3",
   "language": "python",
   "name": "python3"
  },
  "language_info": {
   "codemirror_mode": {
    "name": "ipython",
    "version": 3
   },
   "file_extension": ".py",
   "mimetype": "text/x-python",
   "name": "python",
   "nbconvert_exporter": "python",
   "pygments_lexer": "ipython3",
   "version": "3.7.3"
  }
 },
 "nbformat": 4,
 "nbformat_minor": 2
}
