{
 "cells": [
  {
   "cell_type": "code",
   "execution_count": 1,
   "metadata": {},
   "outputs": [],
   "source": [
    "import psycopg2"
   ]
  },
  {
   "cell_type": "code",
   "execution_count": 2,
   "metadata": {},
   "outputs": [],
   "source": [
    "# connection credentials\n",
    "host = os.environ[\"PGHOST\"]\n",
    "dbname = 'udacity'\n",
    "user = os.environ[\"PGUSER\"]\n",
    "password = os.environ[\"PGPASSWORD\"]\n",
    "port = os.environ[\"PGPORT\"]"
   ]
  },
  {
   "cell_type": "code",
   "execution_count": 3,
   "metadata": {},
   "outputs": [],
   "source": [
    "# connecting to the database\n",
    "try:\n",
    "    conn = psycopg2.connect( host=host\n",
    "                            ,port=port\n",
    "                            ,dbname = dbname\n",
    "                            ,user=user\n",
    "                            ,password=password\n",
    "                           )\n",
    "    \n",
    "except psycopg2.Error as error:\n",
    "    print(\"Error: could not connect to Postgres Database\")\n",
    "    print(error)\n",
    "    "
   ]
  },
  {
   "cell_type": "code",
   "execution_count": 4,
   "metadata": {},
   "outputs": [],
   "source": [
    "# retrieving a cursor\n",
    "try:\n",
    "    cur = conn.cursor()\n",
    "    \n",
    "except psycopg2.Error as error:\n",
    "    print(\"Error: could not get cursor to the Database\")\n",
    "    print(error)\n",
    "    \n",
    "# set \"autocommit\" to True\n",
    "conn.set_session(autocommit=True)"
   ]
  },
  {
   "cell_type": "code",
   "execution_count": 5,
   "metadata": {},
   "outputs": [],
   "source": [
    "\n",
    "music_store_create_table_statement = \\\n",
    "    \"\"\"\n",
    "        DROP TABLE IF EXISTS\n",
    "            public.music_store\n",
    "        ;\n",
    "        \n",
    "        CREATE TABLE\n",
    "            public.music_store(\n",
    "                 transaction_id SMALLINT\n",
    "                ,customer_name TEXT\n",
    "                ,cashier_name TEXT\n",
    "                ,year INTEGER\n",
    "                ,albums_purchased TEXT[]\n",
    "            )\n",
    "        ;\n",
    "    \"\"\"\n",
    "\n",
    "music_store_insert_into_statement = \\\n",
    "    \"\"\"\n",
    "        INSERT INTO\n",
    "            public.music_store(\n",
    "                 transaction_id\n",
    "                ,customer_name\n",
    "                ,cashier_name\n",
    "                ,year\n",
    "                ,albums_purchased\n",
    "                \n",
    "            )\n",
    "            \n",
    "        VALUES(\n",
    "             %s\n",
    "            ,%s\n",
    "            ,%s\n",
    "            ,%s\n",
    "            ,%s\n",
    "        )\n",
    "        ;\n",
    "    \"\"\""
   ]
  },
  {
   "cell_type": "markdown",
   "metadata": {},
   "source": [
    "#### create the \"music_store\" table"
   ]
  },
  {
   "cell_type": "code",
   "execution_count": 12,
   "metadata": {},
   "outputs": [],
   "source": [
    "\n",
    "try:\n",
    "    cur.execute(music_store_create_table_statement)\n",
    "    \n",
    "except psycopg2.Error as error:\n",
    "    print(\"Error: issue creating table\")\n",
    "    print(error)"
   ]
  },
  {
   "cell_type": "code",
   "execution_count": 6,
   "metadata": {},
   "outputs": [
    {
     "data": {
      "text/plain": [
       "'\\n    INSERT INTO\\n        public.music_store(\\n             transaction_id\\n            ,customer_name\\n            ,cashier_name\\n            ,year\\n            ,albums_purchased\\n            \\n        )\\n        \\n    VALUES(\\n         %s\\n        ,%s\\n        ,%s\\n        ,%s\\n        ,%s\\n    )\\n    ;\\n'"
      ]
     },
     "execution_count": 6,
     "metadata": {},
     "output_type": "execute_result"
    }
   ],
   "source": [
    "    \"\"\"\n",
    "        INSERT INTO\n",
    "            public.music_store(\n",
    "                 transaction_id\n",
    "                ,customer_name\n",
    "                ,cashier_name\n",
    "                ,year\n",
    "                ,albums_purchased\n",
    "                \n",
    "            )\n",
    "            \n",
    "        VALUES(\n",
    "             %(transaction_id)s\n",
    "            ,%(customer_name)s\n",
    "            ,%(cashier_name)s\n",
    "            ,%(year)s\n",
    "            ,%(albums_purchased)s\n",
    "        )\n",
    "        ;\n",
    "    \"\"\"\n",
    "\n",
    "    \"\"\"\n",
    "        INSERT INTO\n",
    "            public.music_store(\n",
    "                 transaction_id\n",
    "                ,customer_name\n",
    "                ,cashier_name\n",
    "                ,year\n",
    "                ,albums_purchased\n",
    "                \n",
    "            )\n",
    "            \n",
    "        VALUES(\n",
    "             %s\n",
    "            ,%s\n",
    "            ,%s\n",
    "            ,%s\n",
    "            ,%s\n",
    "        )\n",
    "        ;\n",
    "    \"\"\""
   ]
  },
  {
   "cell_type": "markdown",
   "metadata": {},
   "source": [
    "#### a dictionary would work\n",
    "if we weren't also inserting into an `ARRAY[]` type column.  \n",
    "We solve this by using a list of tuples in the cell below."
   ]
  },
  {
   "cell_type": "code",
   "execution_count": 46,
   "metadata": {},
   "outputs": [],
   "source": [
    "\n",
    "first_insert = dict()\n",
    "\n",
    "first_insert = (\n",
    "     { \"transaction_id\": \"1\"\n",
    "      ,\"customer_name\": \"Amanda\"\n",
    "      ,\"cashier_name\": \"Sam\"\n",
    "      ,\"year\": \"2000\"\n",
    "      ,\"albumns_purchased\": '{'\"Rubber Soul\"', '\"Let it Be\"'}'\n",
    "     }\n",
    "    ,{\"transaction_id\": \"2\"\n",
    "      ,\"customer_name\": \"Toby\"\n",
    "      ,\"cashier_name\": \"Sam\"\n",
    "      ,\"year\": \"2000\"\n",
    "      ,\"albumns_purchased\": '{'\"My Generation\"'}'\n",
    "     }\n",
    "    ,{\"transaction_id\": \"3\"\n",
    "      ,\"customer_name\": \"Max\"\n",
    "      ,\"cashier_name\": \"Bob\"\n",
    "      ,\"year\": \"2018\"\n",
    "      ,\"albumns_purchased\": '{'\"Meet the Beatles\"', '\"Help!\"'}'\n",
    "     }\n",
    ")"
   ]
  },
  {
   "cell_type": "code",
   "execution_count": 60,
   "metadata": {},
   "outputs": [],
   "source": [
    "\n",
    "tuple_list = [\n",
    "     (1,\"Amanda\",\"Sam\",2000,'{\"Rubber Soul\",\"Let it Be\"}')\n",
    "    ,(2,\"Toby\",\"Sam\",2000,'{\"My Generation\"}')\n",
    "    ,(3,\"Max\",\"Bob\",2018,'{\"Meet the Beatles\",\"Help!\"}')\n",
    "]"
   ]
  },
  {
   "cell_type": "code",
   "execution_count": 61,
   "metadata": {},
   "outputs": [],
   "source": [
    "\n",
    "cur.executemany(music_store_insert_into_statement, tuple_list)"
   ]
  },
  {
   "cell_type": "markdown",
   "metadata": {},
   "source": [
    "#### SELECT data\n",
    "from the `music_store` table we just created"
   ]
  },
  {
   "cell_type": "code",
   "execution_count": 8,
   "metadata": {},
   "outputs": [
    {
     "name": "stdout",
     "output_type": "stream",
     "text": [
      "(1, 'Amanda', 'Sam', 2000, ['Rubber Soul', 'Let it Be'])\n",
      "(2, 'Toby', 'Sam', 2000, ['My Generation'])\n",
      "(3, 'Max', 'Bob', 2018, ['Meet the Beatles', 'Help!'])\n"
     ]
    }
   ],
   "source": [
    "\n",
    "try:\n",
    "    cur.execute(\n",
    "        \"\"\"\n",
    "            SELECT\n",
    "                *\n",
    "                \n",
    "            FROM\n",
    "                public.music_store\n",
    "        \"\"\"\n",
    "    )\n",
    "except psycopg2.Error as error:\n",
    "    print(\"Error: select *\")\n",
    "    print(error)\n",
    "    \n",
    "row = cur.fetchone()\n",
    "\n",
    "while row:\n",
    "    print(row)\n",
    "    row = cur.fetchone()\n",
    "    "
   ]
  },
  {
   "cell_type": "markdown",
   "metadata": {},
   "source": [
    "#### move the `music_store` table to 1NF\n",
    "by splitting the \"albuns_purchased\" attribute into individual rows:"
   ]
  },
  {
   "cell_type": "code",
   "execution_count": 9,
   "metadata": {},
   "outputs": [],
   "source": [
    "\n",
    "create_table_music_store_1nf_statement = \\\n",
    "    \"\"\"\n",
    "        DROP TABLE IF EXISTS\n",
    "            public.music_store_1nf\n",
    "        ;\n",
    "        \n",
    "        CREATE TABLE\n",
    "            public.music_store_1nf\n",
    "                (\n",
    "                 transaction_id SMALLINT\n",
    "                ,customer_name TEXT\n",
    "                ,cashier_name TEXT\n",
    "                ,year INTEGER\n",
    "                ,albums_purchased TEXT\n",
    "                )\n",
    "    \"\"\"\n",
    "\n",
    "try:\n",
    "    cur.execute(create_table_music_store_1nf_statement)\n",
    "    \n",
    "except psycopg2.Error as error:\n",
    "    print(\"Error creating table\")\n",
    "    print(error)"
   ]
  },
  {
   "cell_type": "code",
   "execution_count": 13,
   "metadata": {},
   "outputs": [],
   "source": [
    "\n",
    "music_store_1nf_insert_into_statement = \\\n",
    "    \"\"\"\n",
    "        INSERT INTO\n",
    "            public.music_store_1nf(\n",
    "                 transaction_id\n",
    "                ,customer_name\n",
    "                ,cashier_name\n",
    "                ,year\n",
    "                ,albums_purchased\n",
    "                \n",
    "            )\n",
    "            \n",
    "        VALUES(\n",
    "             %s\n",
    "            ,%s\n",
    "            ,%s\n",
    "            ,%s\n",
    "            ,%s\n",
    "        )\n",
    "        ;\n",
    "    \"\"\"\n",
    "\n",
    "# a variable holding a list of tuples is created\n",
    "music_store_1nf_data = [\n",
    "     (1,\"Amanda\",\"Sam\",2000,\"Rubber Soul\")\n",
    "    ,(1,\"Amanda\",\"Sam\",2000,\"Let it Be\")\n",
    "    ,(2,\"Toby\",\"Sam\",2000,\"My Generation\")\n",
    "    ,(3,\"Max\",\"Bob\",2018,\"Meet the Beatles\")\n",
    "    ,(3,\"Max\",\"Bob\",2018,\"Help!\")\n",
    "]"
   ]
  },
  {
   "cell_type": "markdown",
   "metadata": {},
   "source": [
    "#### insert data into the new table"
   ]
  },
  {
   "cell_type": "code",
   "execution_count": 14,
   "metadata": {},
   "outputs": [],
   "source": [
    "\n",
    "try:\n",
    "    cur.executemany(music_store_1nf_insert_into_statement, music_store_1nf_data)\n",
    "except psycopg2.Error as error:\n",
    "    print(\"Error when inserting data\")\n",
    "    print(error)"
   ]
  },
  {
   "cell_type": "markdown",
   "metadata": {},
   "source": [
    "#### SELECT data\n",
    "from the 1NF table"
   ]
  },
  {
   "cell_type": "code",
   "execution_count": 15,
   "metadata": {},
   "outputs": [
    {
     "name": "stdout",
     "output_type": "stream",
     "text": [
      "(1, 'Amanda', 'Sam', 2000, 'Rubber Soul')\n",
      "(1, 'Amanda', 'Sam', 2000, 'Let it Be')\n",
      "(2, 'Toby', 'Sam', 2000, 'My Generation')\n",
      "(3, 'Max', 'Bob', 2018, 'Meet the Beatles')\n",
      "(3, 'Max', 'Bob', 2018, 'Help!')\n"
     ]
    }
   ],
   "source": [
    "\n",
    "try:\n",
    "    cur.execute(\n",
    "        \"\"\"\n",
    "            SELECT\n",
    "                *\n",
    "                \n",
    "            FROM\n",
    "                public.music_store_1nf\n",
    "        \"\"\"\n",
    "    )\n",
    "except psycopg2.Error as error:\n",
    "    print(\"Error: select *\")\n",
    "    print(error)\n",
    "    \n",
    "row = cur.fetchone()\n",
    "\n",
    "while row:\n",
    "    print(row)\n",
    "    row = cur.fetchone()\n"
   ]
  },
  {
   "cell_type": "markdown",
   "metadata": {},
   "source": [
    "#### Applying 2NF to our data model\n",
    "by splitting the current table into two distinct tables: `transactions` and `albums_sold`"
   ]
  },
  {
   "cell_type": "code",
   "execution_count": 16,
   "metadata": {},
   "outputs": [],
   "source": [
    "\n",
    "create_table_transactions_statement = \"\"\"\n",
    "    DROP TABLE IF EXISTS\n",
    "        public.transactions\n",
    "    ;\n",
    "    \n",
    "    CREATE TABLE\n",
    "        public.transactions\n",
    "            (\n",
    "             transaction_id SMALLINT\n",
    "            ,customer_name TEXT\n",
    "            ,cashier_name TEXT\n",
    "            ,year INTEGER\n",
    "            )\n",
    "\"\"\"\n",
    "\n",
    "create_table_albums_sold_statement = \"\"\"\n",
    "    DROP TABLE IF EXISTS\n",
    "        public.albums_sold\n",
    "    ;\n",
    "    \n",
    "    CREATE TABLE\n",
    "        public.albums_sold\n",
    "            (\n",
    "             album_id SMALLINT\n",
    "            ,transaction_id SMALLINT\n",
    "            ,album_name TEXT\n",
    "            )\n",
    "\"\"\""
   ]
  },
  {
   "cell_type": "markdown",
   "metadata": {},
   "source": [
    "#### create the two new tables"
   ]
  },
  {
   "cell_type": "code",
   "execution_count": 18,
   "metadata": {},
   "outputs": [],
   "source": [
    "\n",
    "create_statements_execution_list = [\n",
    "     create_table_transactions_statement\n",
    "    ,create_table_albums_sold_statement\n",
    "]\n",
    "\n",
    "for statement in create_statements_execution_list:\n",
    "\n",
    "    try:\n",
    "        cur.execute(statement)\n",
    "\n",
    "    except psycopg2.Error as error:\n",
    "        print(\"Error creating table\")\n",
    "        print(error)"
   ]
  },
  {
   "cell_type": "code",
   "execution_count": 36,
   "metadata": {},
   "outputs": [],
   "source": [
    "\n",
    "transactions_data = [\n",
    "     (1,\"Amanda\",\"Sam\",2000)\n",
    "    ,(2,\"Toby\",\"Sam\",2000)\n",
    "    ,(3,\"Max\",\"Bob\",2018)\n",
    "]\n",
    "\n",
    "\n",
    "insert_into_transaction_statement = \"\"\"\n",
    "\n",
    "    INSERT INTO\n",
    "        public.transactions(\n",
    "             transaction_id\n",
    "            ,customer_name\n",
    "            ,cashier_name\n",
    "            ,year\n",
    "        )\n",
    "        \n",
    "    VALUES(\n",
    "         %s\n",
    "        ,%s\n",
    "        ,%s\n",
    "        ,%s\n",
    "    )\n",
    "    ;\n",
    "\"\"\"\n",
    "\n",
    "\n",
    "albums_sold_data = [\n",
    "     (1,1,\"Rubber Soul\")\n",
    "    ,(2,1,\"Let it Be\")\n",
    "    ,(3,2,\"My Generation\")\n",
    "    ,(4,3,\"Meet the Beatles\")\n",
    "    ,(5,3,\"Help!\")\n",
    "]\n",
    "\n",
    "insert_into_albums_sold_statement = \"\"\"\n",
    "\n",
    "    INSERT INTO\n",
    "        public.albums_sold(\n",
    "             album_id\n",
    "            ,transaction_id\n",
    "            ,album_name\n",
    "        )\n",
    "        \n",
    "    VALUES(\n",
    "         %s\n",
    "        ,%s\n",
    "        ,%s\n",
    "    )\n",
    "    ;\n",
    "\"\"\""
   ]
  },
  {
   "cell_type": "code",
   "execution_count": 37,
   "metadata": {},
   "outputs": [],
   "source": [
    "# insert \"Transactions\" data\n",
    "try:\n",
    "    cur.executemany(insert_into_transaction_statement, transactions_data)\n",
    "    \n",
    "except psycopg2.Error as error:\n",
    "    print(\"Error inserting data\")\n",
    "    print(error)\n",
    "\n",
    "# insert \"Albums Sold\" data\n",
    "try:\n",
    "    cur.executemany(insert_into_albums_sold_statement, albums_sold_data)\n",
    "    \n",
    "except psycopg2.Error as error:\n",
    "    print(\"Error inserting data\")\n",
    "    print(error)"
   ]
  },
  {
   "cell_type": "code",
   "execution_count": 38,
   "metadata": {},
   "outputs": [],
   "source": [
    "\n",
    "transactions_and_albums_sold_join_statement = \"\"\"\n",
    "    SELECT\n",
    "        *\n",
    "\n",
    "    FROM\n",
    "        transactions\n",
    "\n",
    "    LEFT JOIN\n",
    "        albums_sold\n",
    "\n",
    "    ON\n",
    "        transactions.transaction_id\n",
    "        =\n",
    "        albums_sold.transaction_id\n",
    "\"\"\""
   ]
  },
  {
   "cell_type": "code",
   "execution_count": 39,
   "metadata": {},
   "outputs": [
    {
     "name": "stdout",
     "output_type": "stream",
     "text": [
      "(1, 'Amanda', 'Sam', 2000, 1, 1, 'Rubber Soul')\n",
      "(1, 'Amanda', 'Sam', 2000, 2, 1, 'Let it Be')\n",
      "(2, 'Toby', 'Sam', 2000, 3, 2, 'My Generation')\n",
      "(3, 'Max', 'Bob', 2018, 4, 3, 'Meet the Beatles')\n",
      "(3, 'Max', 'Bob', 2018, 5, 3, 'Help!')\n"
     ]
    }
   ],
   "source": [
    "\n",
    "try:\n",
    "    cur.execute(transactions_and_albums_sold_join_statement)\n",
    "    \n",
    "except psycopg2.Error as error:\n",
    "    print(\"Error retrieving data\")\n",
    "    print(error)\n",
    "    \n",
    "row = cur.fetchone()\n",
    "while row:\n",
    "   print(row)\n",
    "   row = cur.fetchone()"
   ]
  },
  {
   "cell_type": "markdown",
   "metadata": {},
   "source": [
    "#### appying 3NF to our data model\n",
    "by creating a third table: `employees`   \n",
    "This removes transient dependencies from the `transactions` table"
   ]
  },
  {
   "cell_type": "code",
   "execution_count": 40,
   "metadata": {},
   "outputs": [],
   "source": [
    "\n",
    "create_table_transactions_3nf_statement = \"\"\"\n",
    "    DROP TABLE IF EXISTS\n",
    "        public.transactions_3nf\n",
    "    ;\n",
    "    \n",
    "    CREATE TABLE\n",
    "        public.transactions_3nf\n",
    "            (\n",
    "             transaction_id SMALLINT\n",
    "            ,customer_name TEXT\n",
    "            ,employee_id SMALLINT\n",
    "            ,year INTEGER\n",
    "            )\n",
    "\"\"\"\n",
    "\n",
    "create_table_employees_statement = \"\"\"\n",
    "    DROP TABLE IF EXISTS\n",
    "        public.employess\n",
    "    ;\n",
    "    \n",
    "    CREATE TABLE\n",
    "        public.employees(\n",
    "             employee_id SMALLINT\n",
    "            ,employee_name TEXT\n",
    "        )\n",
    "    ;\n",
    "\"\"\""
   ]
  },
  {
   "cell_type": "code",
   "execution_count": 41,
   "metadata": {},
   "outputs": [],
   "source": [
    "\n",
    "statement_execution_list = [\n",
    "     create_table_transactions_3nf_statement\n",
    "    ,create_table_employees_statement\n",
    "]\n",
    "\n",
    "for statement in statement_execution_list:\n",
    "    \n",
    "    try:\n",
    "        cur.execute(statement)\n",
    "        \n",
    "    except psycopg2.Error as error:\n",
    "        print(\"Error creating table\")\n",
    "        print(error)"
   ]
  },
  {
   "cell_type": "code",
   "execution_count": 45,
   "metadata": {},
   "outputs": [],
   "source": [
    "\n",
    "insert_into_transactions_3nf_statement = \"\"\"\n",
    "\n",
    "    INSERT INTO\n",
    "        public.transactions_3nf(\n",
    "             transaction_id\n",
    "            ,customer_name\n",
    "            ,employee_id\n",
    "            ,year\n",
    "        )\n",
    "        \n",
    "    VALUES(\n",
    "         %s\n",
    "        ,%s\n",
    "        ,%s\n",
    "        ,%s\n",
    "    )\n",
    "    ;\n",
    "\"\"\"\n",
    "\n",
    "transactions_3nf_data = [\n",
    "     (1,\"Amanda\",1,2000)\n",
    "    ,(2,\"Toby\",1,2000)\n",
    "    ,(3,\"Max\",2,2018)\n",
    "]\n",
    "\n",
    "insert_into_employees_statement = \"\"\"\n",
    "\n",
    "    INSERT INTO\n",
    "        public.employees(\n",
    "             employee_id\n",
    "            ,employee_name\n",
    "        )\n",
    "        \n",
    "    VALUES(\n",
    "         %s\n",
    "        ,%s\n",
    "    )\n",
    "    ;\n",
    "\"\"\"\n",
    "\n",
    "employees_data = [\n",
    "     (1,\"Sam\")\n",
    "    ,(2,\"Bob\")\n",
    "]"
   ]
  },
  {
   "cell_type": "code",
   "execution_count": 47,
   "metadata": {},
   "outputs": [],
   "source": [
    "\n",
    "# insert \"Transactions 3NF\" data\n",
    "try:\n",
    "    cur.executemany(insert_into_transactions_3nf_statement, transactions_3nf_data)\n",
    "    \n",
    "except psycopg2.Error as error:\n",
    "    print(\"Error inserting data\")\n",
    "    print(error)\n",
    "    \n",
    "# insert \"Employees\" data\n",
    "try:\n",
    "    cur.executemany(insert_into_employees_statement, employees_data)\n",
    "    \n",
    "except psycopg2.Error as error:\n",
    "    print(\"Error inserting data\")\n",
    "    print(error)"
   ]
  },
  {
   "cell_type": "code",
   "execution_count": 49,
   "metadata": {},
   "outputs": [],
   "source": [
    "\n",
    "all_tables_join_statement = \"\"\"\n",
    "\n",
    "    SELECT\t\n",
    "        *\n",
    "\n",
    "    FROM\n",
    "        transactions_3nf\n",
    "\n",
    "    LEFT JOIN\n",
    "        employees\n",
    "\n",
    "    ON\n",
    "        transactions_3nf.employee_id\n",
    "        =\n",
    "        employees.employee_id\n",
    "\n",
    "    LEFT JOIN\n",
    "        albums_sold\n",
    "\n",
    "    ON\n",
    "        transactions_3nf.transaction_id\n",
    "        =\n",
    "        albums_sold.transaction_id\n",
    "    ;\n",
    "\"\"\""
   ]
  },
  {
   "cell_type": "code",
   "execution_count": 50,
   "metadata": {},
   "outputs": [
    {
     "name": "stdout",
     "output_type": "stream",
     "text": [
      "(1, 'Amanda', 1, 2000, 1, 'Sam', 1, 1, 'Rubber Soul')\n",
      "(1, 'Amanda', 1, 2000, 1, 'Sam', 2, 1, 'Let it Be')\n",
      "(2, 'Toby', 1, 2000, 1, 'Sam', 3, 2, 'My Generation')\n",
      "(3, 'Max', 2, 2018, 2, 'Bob', 4, 3, 'Meet the Beatles')\n",
      "(3, 'Max', 2, 2018, 2, 'Bob', 5, 3, 'Help!')\n"
     ]
    }
   ],
   "source": [
    "\n",
    "try:\n",
    "    cur.execute(all_tables_join_statement)\n",
    "    \n",
    "except psycopg2.Error as error:\n",
    "    print(\"Error retrieving data\")\n",
    "    print(error)\n",
    "    \n",
    "row = cur.fetchone()\n",
    "\n",
    "while row:\n",
    "    print(row)\n",
    "    row = cur.fetchone()"
   ]
  },
  {
   "cell_type": "code",
   "execution_count": null,
   "metadata": {},
   "outputs": [],
   "source": []
  }
 ],
 "metadata": {
  "kernelspec": {
   "display_name": "Python 3",
   "language": "python",
   "name": "python3"
  },
  "language_info": {
   "codemirror_mode": {
    "name": "ipython",
    "version": 3
   },
   "file_extension": ".py",
   "mimetype": "text/x-python",
   "name": "python",
   "nbconvert_exporter": "python",
   "pygments_lexer": "ipython3",
   "version": "3.7.3"
  }
 },
 "nbformat": 4,
 "nbformat_minor": 2
}
