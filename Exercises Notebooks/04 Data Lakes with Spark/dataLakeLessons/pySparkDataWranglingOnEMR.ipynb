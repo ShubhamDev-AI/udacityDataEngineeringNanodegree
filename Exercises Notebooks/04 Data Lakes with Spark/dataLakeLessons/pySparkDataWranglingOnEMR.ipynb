{
 "cells": [
  {
   "cell_type": "markdown",
   "metadata": {},
   "source": [
    "# Manipulate S3 data with PySpark SQL on `AWS EMR`\n",
    "  \n",
    "> [PySpark SQL API Documentation](<https://spark.apache.org/docs/latest/api/python/pyspark.sql.html>)"
   ]
  },
  {
   "cell_type": "code",
   "execution_count": 1,
   "metadata": {},
   "outputs": [
    {
     "data": {
      "application/vnd.jupyter.widget-view+json": {
       "model_id": "7610abce3fb5418c9a88f3b25712f00e",
       "version_major": 2,
       "version_minor": 0
      },
      "text/plain": [
       "VBox()"
      ]
     },
     "metadata": {},
     "output_type": "display_data"
    },
    {
     "name": "stdout",
     "output_type": "stream",
     "text": [
      "Starting Spark application\n"
     ]
    },
    {
     "data": {
      "text/html": [
       "<table>\n",
       "<tr><th>ID</th><th>YARN Application ID</th><th>Kind</th><th>State</th><th>Spark UI</th><th>Driver log</th><th>Current session?</th></tr><tr><td>1</td><td>application_1585429618764_0003</td><td>pyspark</td><td>idle</td><td><a target=\"_blank\" href=\"http://ip-172-31-89-225.ec2.internal:20888/proxy/application_1585429618764_0003/\">Link</a></td><td><a target=\"_blank\" href=\"http://ip-172-31-83-89.ec2.internal:8042/node/containerlogs/container_1585429618764_0003_01_000001/livy\">Link</a></td><td>✔</td></tr></table>"
      ],
      "text/plain": [
       "<IPython.core.display.HTML object>"
      ]
     },
     "metadata": {},
     "output_type": "display_data"
    },
    {
     "data": {
      "application/vnd.jupyter.widget-view+json": {
       "model_id": "",
       "version_major": 2,
       "version_minor": 0
      },
      "text/plain": [
       "FloatProgress(value=0.0, bar_style='info', description='Progress:', layout=Layout(height='25px', width='50%'),…"
      ]
     },
     "metadata": {},
     "output_type": "display_data"
    },
    {
     "name": "stdout",
     "output_type": "stream",
     "text": [
      "SparkSession available as 'spark'.\n"
     ]
    },
    {
     "data": {
      "application/vnd.jupyter.widget-view+json": {
       "model_id": "",
       "version_major": 2,
       "version_minor": 0
      },
      "text/plain": [
       "FloatProgress(value=0.0, bar_style='info', description='Progress:', layout=Layout(height='25px', width='50%'),…"
      ]
     },
     "metadata": {},
     "output_type": "display_data"
    }
   ],
   "source": [
    "%%spark"
   ]
  },
  {
   "cell_type": "markdown",
   "metadata": {},
   "source": [
    "## import S3 data without inferring its schema"
   ]
  },
  {
   "cell_type": "code",
   "execution_count": 2,
   "metadata": {},
   "outputs": [
    {
     "data": {
      "application/vnd.jupyter.widget-view+json": {
       "model_id": "f2f909a1c9624bb1bcec8844cad86ee0",
       "version_major": 2,
       "version_minor": 0
      },
      "text/plain": [
       "VBox()"
      ]
     },
     "metadata": {},
     "output_type": "display_data"
    },
    {
     "data": {
      "application/vnd.jupyter.widget-view+json": {
       "model_id": "",
       "version_major": 2,
       "version_minor": 0
      },
      "text/plain": [
       "FloatProgress(value=0.0, bar_style='info', description='Progress:', layout=Layout(height='25px', width='50%'),…"
      ]
     },
     "metadata": {},
     "output_type": "display_data"
    }
   ],
   "source": [
    "df = spark.read.csv(\"s3a://udacity-dend/pagila/payment/payment.csv\")"
   ]
  },
  {
   "cell_type": "code",
   "execution_count": 3,
   "metadata": {},
   "outputs": [
    {
     "data": {
      "application/vnd.jupyter.widget-view+json": {
       "model_id": "463675145b524f01a2432e70ae106a4b",
       "version_major": 2,
       "version_minor": 0
      },
      "text/plain": [
       "VBox()"
      ]
     },
     "metadata": {},
     "output_type": "display_data"
    },
    {
     "data": {
      "application/vnd.jupyter.widget-view+json": {
       "model_id": "",
       "version_major": 2,
       "version_minor": 0
      },
      "text/plain": [
       "FloatProgress(value=0.0, bar_style='info', description='Progress:', layout=Layout(height='25px', width='50%'),…"
      ]
     },
     "metadata": {},
     "output_type": "display_data"
    },
    {
     "name": "stdout",
     "output_type": "stream",
     "text": [
      "root\n",
      " |-- _c0: string (nullable = true)"
     ]
    }
   ],
   "source": [
    "df.printSchema()"
   ]
  },
  {
   "cell_type": "code",
   "execution_count": 4,
   "metadata": {},
   "outputs": [
    {
     "data": {
      "application/vnd.jupyter.widget-view+json": {
       "model_id": "4f4fe4c9efb2415d94ec336a9d220f3b",
       "version_major": 2,
       "version_minor": 0
      },
      "text/plain": [
       "VBox()"
      ]
     },
     "metadata": {},
     "output_type": "display_data"
    },
    {
     "data": {
      "application/vnd.jupyter.widget-view+json": {
       "model_id": "",
       "version_major": 2,
       "version_minor": 0
      },
      "text/plain": [
       "FloatProgress(value=0.0, bar_style='info', description='Progress:', layout=Layout(height='25px', width='50%'),…"
      ]
     },
     "metadata": {},
     "output_type": "display_data"
    },
    {
     "name": "stdout",
     "output_type": "stream",
     "text": [
      "+-------------------------------------------------------------+\n",
      "|_c0                                                          |\n",
      "+-------------------------------------------------------------+\n",
      "|payment_id;customer_id;staff_id;rental_id;amount;payment_date|\n",
      "|16050;269;2;7;1.99;2017-01-24 21:40:19.996577+00             |\n",
      "|16051;269;1;98;0.99;2017-01-25 15:16:50.996577+00            |\n",
      "|16052;269;2;678;6.99;2017-01-28 21:44:14.996577+00           |\n",
      "|16053;269;2;703;0.99;2017-01-29 00:58:02.996577+00           |\n",
      "+-------------------------------------------------------------+\n",
      "only showing top 5 rows"
     ]
    }
   ],
   "source": [
    "df.show(n=5,truncate=False)"
   ]
  },
  {
   "cell_type": "markdown",
   "metadata": {},
   "source": [
    "## import S3 data\n",
    "This time using additional parameters to properly split the csv file contents:"
   ]
  },
  {
   "cell_type": "code",
   "execution_count": 5,
   "metadata": {},
   "outputs": [
    {
     "data": {
      "application/vnd.jupyter.widget-view+json": {
       "model_id": "379d8a4789224c6eb518528fcaa6bd73",
       "version_major": 2,
       "version_minor": 0
      },
      "text/plain": [
       "VBox()"
      ]
     },
     "metadata": {},
     "output_type": "display_data"
    },
    {
     "data": {
      "application/vnd.jupyter.widget-view+json": {
       "model_id": "",
       "version_major": 2,
       "version_minor": 0
      },
      "text/plain": [
       "FloatProgress(value=0.0, bar_style='info', description='Progress:', layout=Layout(height='25px', width='50%'),…"
      ]
     },
     "metadata": {},
     "output_type": "display_data"
    }
   ],
   "source": [
    "schema_df = spark.read.csv(\n",
    "     \"s3a://udacity-dend/pagila/payment/payment.csv\"\n",
    "    ,sep=';'\n",
    "    ,header=True\n",
    "    ,inferSchema=True\n",
    ")"
   ]
  },
  {
   "cell_type": "code",
   "execution_count": 6,
   "metadata": {},
   "outputs": [
    {
     "data": {
      "application/vnd.jupyter.widget-view+json": {
       "model_id": "4da0d84c200a42299e95f51240f099c6",
       "version_major": 2,
       "version_minor": 0
      },
      "text/plain": [
       "VBox()"
      ]
     },
     "metadata": {},
     "output_type": "display_data"
    },
    {
     "data": {
      "application/vnd.jupyter.widget-view+json": {
       "model_id": "",
       "version_major": 2,
       "version_minor": 0
      },
      "text/plain": [
       "FloatProgress(value=0.0, bar_style='info', description='Progress:', layout=Layout(height='25px', width='50%'),…"
      ]
     },
     "metadata": {},
     "output_type": "display_data"
    },
    {
     "name": "stdout",
     "output_type": "stream",
     "text": [
      "+----------+-----------+--------+---------+------+-----------------------------+\n",
      "|payment_id|customer_id|staff_id|rental_id|amount|payment_date                 |\n",
      "+----------+-----------+--------+---------+------+-----------------------------+\n",
      "|16050     |269        |2       |7        |1.99  |2017-01-24 21:40:19.996577+00|\n",
      "|16051     |269        |1       |98       |0.99  |2017-01-25 15:16:50.996577+00|\n",
      "|16052     |269        |2       |678      |6.99  |2017-01-28 21:44:14.996577+00|\n",
      "|16053     |269        |2       |703      |0.99  |2017-01-29 00:58:02.996577+00|\n",
      "|16054     |269        |1       |750      |4.99  |2017-01-29 08:10:06.996577+00|\n",
      "+----------+-----------+--------+---------+------+-----------------------------+\n",
      "only showing top 5 rows"
     ]
    }
   ],
   "source": [
    "schema_df.show(n=5,truncate=False)"
   ]
  },
  {
   "cell_type": "code",
   "execution_count": 7,
   "metadata": {},
   "outputs": [
    {
     "data": {
      "application/vnd.jupyter.widget-view+json": {
       "model_id": "83a3886a7680493ea199eb4f1d6fec70",
       "version_major": 2,
       "version_minor": 0
      },
      "text/plain": [
       "VBox()"
      ]
     },
     "metadata": {},
     "output_type": "display_data"
    },
    {
     "data": {
      "application/vnd.jupyter.widget-view+json": {
       "model_id": "",
       "version_major": 2,
       "version_minor": 0
      },
      "text/plain": [
       "FloatProgress(value=0.0, bar_style='info', description='Progress:', layout=Layout(height='25px', width='50%'),…"
      ]
     },
     "metadata": {},
     "output_type": "display_data"
    },
    {
     "name": "stdout",
     "output_type": "stream",
     "text": [
      "root\n",
      " |-- payment_id: integer (nullable = true)\n",
      " |-- customer_id: integer (nullable = true)\n",
      " |-- staff_id: integer (nullable = true)\n",
      " |-- rental_id: integer (nullable = true)\n",
      " |-- amount: double (nullable = true)\n",
      " |-- payment_date: string (nullable = true)"
     ]
    }
   ],
   "source": [
    "schema_df.printSchema()"
   ]
  },
  {
   "cell_type": "markdown",
   "metadata": {},
   "source": [
    "## the `payment_date` column's been ingested as a `string`\n",
    "data type when it clearly should be of type `timestamp`.  \n",
    "  \n",
    "We'll fix this with Spark SQL's `functions` module.  \n",
    "  \n",
    "> [PySpark SQL Functions Docs](<https://spark.apache.org/docs/latest/api/python/pyspark.sql.html#module-pyspark.sql.functions>)"
   ]
  },
  {
   "cell_type": "code",
   "execution_count": 8,
   "metadata": {},
   "outputs": [
    {
     "data": {
      "application/vnd.jupyter.widget-view+json": {
       "model_id": "75d77038d6964cdcaddd38a01d8189a1",
       "version_major": 2,
       "version_minor": 0
      },
      "text/plain": [
       "VBox()"
      ]
     },
     "metadata": {},
     "output_type": "display_data"
    },
    {
     "data": {
      "application/vnd.jupyter.widget-view+json": {
       "model_id": "",
       "version_major": 2,
       "version_minor": 0
      },
      "text/plain": [
       "FloatProgress(value=0.0, bar_style='info', description='Progress:', layout=Layout(height='25px', width='50%'),…"
      ]
     },
     "metadata": {},
     "output_type": "display_data"
    }
   ],
   "source": [
    "import pyspark.sql.functions as sqlFunctions"
   ]
  },
  {
   "cell_type": "markdown",
   "metadata": {},
   "source": [
    "## create a new DataFrame\n",
    "  \n",
    "* use the `withColumn()` function to replace the `payment_date` column;  \n",
    "  \n",
    "> `withColumn()` → Returns a new DataFrame by adding a column or replacing the existing column that has the same name.\n",
    "  \n",
    "* use the `to_timestamp()` function to convert the original `payment_date` column to a real `TimestampType` data type;  \n",
    "  \n",
    "> `to_timestamp` → Converts a Column of pyspark.sql.types.StringType or pyspark.sql.types.TimestampType into pyspark.sql.types.DateType using the optionally specified format.\n"
   ]
  },
  {
   "cell_type": "code",
   "execution_count": 9,
   "metadata": {},
   "outputs": [
    {
     "data": {
      "application/vnd.jupyter.widget-view+json": {
       "model_id": "7173c71cf15546f895d1f234e04e5fa2",
       "version_major": 2,
       "version_minor": 0
      },
      "text/plain": [
       "VBox()"
      ]
     },
     "metadata": {},
     "output_type": "display_data"
    },
    {
     "data": {
      "application/vnd.jupyter.widget-view+json": {
       "model_id": "",
       "version_major": 2,
       "version_minor": 0
      },
      "text/plain": [
       "FloatProgress(value=0.0, bar_style='info', description='Progress:', layout=Layout(height='25px', width='50%'),…"
      ]
     },
     "metadata": {},
     "output_type": "display_data"
    },
    {
     "name": "stdout",
     "output_type": "stream",
     "text": [
      "root\n",
      " |-- payment_id: integer (nullable = true)\n",
      " |-- customer_id: integer (nullable = true)\n",
      " |-- staff_id: integer (nullable = true)\n",
      " |-- rental_id: integer (nullable = true)\n",
      " |-- amount: double (nullable = true)\n",
      " |-- payment_date: timestamp (nullable = true)"
     ]
    }
   ],
   "source": [
    "dfPayments = schema_df.withColumn('payment_date',sqlFunctions.to_timestamp('payment_date'))\n",
    "\n",
    "# verify datatypes with \"printSchema()\"\n",
    "dfPayments.printSchema()"
   ]
  },
  {
   "cell_type": "code",
   "execution_count": 10,
   "metadata": {},
   "outputs": [
    {
     "data": {
      "application/vnd.jupyter.widget-view+json": {
       "model_id": "77bfee5384aa4e179d554f98543e387c",
       "version_major": 2,
       "version_minor": 0
      },
      "text/plain": [
       "VBox()"
      ]
     },
     "metadata": {},
     "output_type": "display_data"
    },
    {
     "data": {
      "application/vnd.jupyter.widget-view+json": {
       "model_id": "",
       "version_major": 2,
       "version_minor": 0
      },
      "text/plain": [
       "FloatProgress(value=0.0, bar_style='info', description='Progress:', layout=Layout(height='25px', width='50%'),…"
      ]
     },
     "metadata": {},
     "output_type": "display_data"
    },
    {
     "name": "stdout",
     "output_type": "stream",
     "text": [
      "+----------+-----------+--------+---------+------+--------------------------+\n",
      "|payment_id|customer_id|staff_id|rental_id|amount|payment_date              |\n",
      "+----------+-----------+--------+---------+------+--------------------------+\n",
      "|16050     |269        |2       |7        |1.99  |2017-01-24 21:40:19.996577|\n",
      "|16051     |269        |1       |98       |0.99  |2017-01-25 15:16:50.996577|\n",
      "|16052     |269        |2       |678      |6.99  |2017-01-28 21:44:14.996577|\n",
      "|16053     |269        |2       |703      |0.99  |2017-01-29 00:58:02.996577|\n",
      "|16054     |269        |1       |750      |4.99  |2017-01-29 08:10:06.996577|\n",
      "+----------+-----------+--------+---------+------+--------------------------+\n",
      "only showing top 5 rows"
     ]
    }
   ],
   "source": [
    "dfPayments.show(n=5,truncate=False)"
   ]
  },
  {
   "cell_type": "markdown",
   "metadata": {},
   "source": [
    "## add a column having the month\n",
    "of payment transaction. Use PySpark SQL's `month()` function to achieve this:"
   ]
  },
  {
   "cell_type": "code",
   "execution_count": 11,
   "metadata": {},
   "outputs": [
    {
     "data": {
      "application/vnd.jupyter.widget-view+json": {
       "model_id": "bda8d2440d434d2890b96207404032d2",
       "version_major": 2,
       "version_minor": 0
      },
      "text/plain": [
       "VBox()"
      ]
     },
     "metadata": {},
     "output_type": "display_data"
    },
    {
     "data": {
      "application/vnd.jupyter.widget-view+json": {
       "model_id": "",
       "version_major": 2,
       "version_minor": 0
      },
      "text/plain": [
       "FloatProgress(value=0.0, bar_style='info', description='Progress:', layout=Layout(height='25px', width='50%'),…"
      ]
     },
     "metadata": {},
     "output_type": "display_data"
    },
    {
     "name": "stdout",
     "output_type": "stream",
     "text": [
      "+----------+-----------+--------+---------+------+--------------------------+-------------+\n",
      "|payment_id|customer_id|staff_id|rental_id|amount|payment_date              |payment_month|\n",
      "+----------+-----------+--------+---------+------+--------------------------+-------------+\n",
      "|16050     |269        |2       |7        |1.99  |2017-01-24 21:40:19.996577|1            |\n",
      "|16051     |269        |1       |98       |0.99  |2017-01-25 15:16:50.996577|1            |\n",
      "|16052     |269        |2       |678      |6.99  |2017-01-28 21:44:14.996577|1            |\n",
      "|16053     |269        |2       |703      |0.99  |2017-01-29 00:58:02.996577|1            |\n",
      "|16054     |269        |1       |750      |4.99  |2017-01-29 08:10:06.996577|1            |\n",
      "+----------+-----------+--------+---------+------+--------------------------+-------------+\n",
      "only showing top 5 rows"
     ]
    }
   ],
   "source": [
    "dfPayments = dfPayments.withColumn('payment_month',sqlFunctions.month('payment_date'))\n",
    "\n",
    "dfPayments.show(n=5,truncate=False)"
   ]
  },
  {
   "cell_type": "markdown",
   "metadata": {},
   "source": [
    "## create a temporary view based on this DataFrame\n",
    "by using the DataFrame's `createOrReplaceTempView()` method:"
   ]
  },
  {
   "cell_type": "code",
   "execution_count": 12,
   "metadata": {},
   "outputs": [
    {
     "data": {
      "application/vnd.jupyter.widget-view+json": {
       "model_id": "83b28621df1440d6bc2c47fab54a9865",
       "version_major": 2,
       "version_minor": 0
      },
      "text/plain": [
       "VBox()"
      ]
     },
     "metadata": {},
     "output_type": "display_data"
    },
    {
     "data": {
      "application/vnd.jupyter.widget-view+json": {
       "model_id": "",
       "version_major": 2,
       "version_minor": 0
      },
      "text/plain": [
       "FloatProgress(value=0.0, bar_style='info', description='Progress:', layout=Layout(height='25px', width='50%'),…"
      ]
     },
     "metadata": {},
     "output_type": "display_data"
    }
   ],
   "source": [
    "dfPayments.createOrReplaceTempView('payments_view')"
   ]
  },
  {
   "cell_type": "markdown",
   "metadata": {},
   "source": [
    "## use SparkSession's `sql()` method\n",
    "to query the temporary view we've just created:"
   ]
  },
  {
   "cell_type": "code",
   "execution_count": 13,
   "metadata": {},
   "outputs": [
    {
     "data": {
      "application/vnd.jupyter.widget-view+json": {
       "model_id": "da15c751118745b18c05f0c20ebb1bb1",
       "version_major": 2,
       "version_minor": 0
      },
      "text/plain": [
       "VBox()"
      ]
     },
     "metadata": {},
     "output_type": "display_data"
    },
    {
     "data": {
      "application/vnd.jupyter.widget-view+json": {
       "model_id": "",
       "version_major": 2,
       "version_minor": 0
      },
      "text/plain": [
       "FloatProgress(value=0.0, bar_style='info', description='Progress:', layout=Layout(height='25px', width='50%'),…"
      ]
     },
     "metadata": {},
     "output_type": "display_data"
    },
    {
     "name": "stdout",
     "output_type": "stream",
     "text": [
      "+-------------+------------------+\n",
      "|payment_month|     total_revenue|\n",
      "+-------------+------------------+\n",
      "|            4|28559.460000003943|\n",
      "|            3|23886.560000002115|\n",
      "|            2| 9631.879999999608|\n",
      "|            1| 4824.429999999856|\n",
      "|            5|  514.180000000001|\n",
      "+-------------+------------------+"
     ]
    }
   ],
   "source": [
    "spark.sql(\"\"\"\n",
    "    SELECT\n",
    "         payment_month\n",
    "        ,SUM(amount) AS total_revenue\n",
    "    FROM\n",
    "        payments_view\n",
    "    GROUP BY\n",
    "        payment_month\n",
    "    ORDER BY\n",
    "        total_revenue DESC    \n",
    "\"\"\").show()"
   ]
  },
  {
   "cell_type": "markdown",
   "metadata": {},
   "source": [
    "## predetermine the schema before data ingestion  \n",
    "  \n",
    "Import PySpark SQL's `types` module to make Spark's native data types available.  \n",
    "  \n",
    "The `types` module instantiates the `DataType` base class.\n",
    "  \n",
    "> [PySpark SQL's `types` Module Docs](<https://spark.apache.org/docs/latest/api/python/pyspark.sql.html#module-pyspark.sql.types>)  \n",
    "  \n",
    "  \n",
    "> *KEEP IN MIND*: each DataType instance MUST be followed by parenthesis. E.g.: `IntegerType()`"
   ]
  },
  {
   "cell_type": "code",
   "execution_count": 25,
   "metadata": {},
   "outputs": [
    {
     "data": {
      "application/vnd.jupyter.widget-view+json": {
       "model_id": "9dd8e3a0f88049f8bdea2792eb681af0",
       "version_major": 2,
       "version_minor": 0
      },
      "text/plain": [
       "VBox()"
      ]
     },
     "metadata": {},
     "output_type": "display_data"
    },
    {
     "data": {
      "application/vnd.jupyter.widget-view+json": {
       "model_id": "",
       "version_major": 2,
       "version_minor": 0
      },
      "text/plain": [
       "FloatProgress(value=0.0, bar_style='info', description='Progress:', layout=Layout(height='25px', width='50%'),…"
      ]
     },
     "metadata": {},
     "output_type": "display_data"
    }
   ],
   "source": [
    "import pyspark.sql.types as sqlTypes"
   ]
  },
  {
   "cell_type": "markdown",
   "metadata": {},
   "source": [
    "## set the csv file schema\n",
    "into a variable that basically contains a list of the expected columns and their corresponding Spark data types."
   ]
  },
  {
   "cell_type": "code",
   "execution_count": 37,
   "metadata": {},
   "outputs": [
    {
     "data": {
      "application/vnd.jupyter.widget-view+json": {
       "model_id": "042ef6d905b04bb79e029ee0b71c505c",
       "version_major": 2,
       "version_minor": 0
      },
      "text/plain": [
       "VBox()"
      ]
     },
     "metadata": {},
     "output_type": "display_data"
    },
    {
     "data": {
      "application/vnd.jupyter.widget-view+json": {
       "model_id": "",
       "version_major": 2,
       "version_minor": 0
      },
      "text/plain": [
       "FloatProgress(value=0.0, bar_style='info', description='Progress:', layout=Layout(height='25px', width='50%'),…"
      ]
     },
     "metadata": {},
     "output_type": "display_data"
    }
   ],
   "source": [
    "paymentSchema = sqlTypes.StructType([\n",
    "     sqlTypes.StructField(\"payment_id\",sqlTypes.IntegerType())\n",
    "    ,sqlTypes.StructField(\"customer_id\",sqlTypes.IntegerType())\n",
    "    ,sqlTypes.StructField(\"staff_id\",sqlTypes.IntegerType())\n",
    "    ,sqlTypes.StructField(\"rental_id\",sqlTypes.IntegerType())\n",
    "    ,sqlTypes.StructField(\"amount\",sqlTypes.DoubleType())\n",
    "    ,sqlTypes.StructField(\"payment_date\",sqlTypes.DateType())\n",
    "])"
   ]
  },
  {
   "cell_type": "markdown",
   "metadata": {},
   "source": [
    "## pass the csv file schema\n",
    "to the `read.csv()` method:"
   ]
  },
  {
   "cell_type": "code",
   "execution_count": 38,
   "metadata": {},
   "outputs": [
    {
     "data": {
      "application/vnd.jupyter.widget-view+json": {
       "model_id": "673db214ae2746ab874b157998d0c526",
       "version_major": 2,
       "version_minor": 0
      },
      "text/plain": [
       "VBox()"
      ]
     },
     "metadata": {},
     "output_type": "display_data"
    },
    {
     "data": {
      "application/vnd.jupyter.widget-view+json": {
       "model_id": "",
       "version_major": 2,
       "version_minor": 0
      },
      "text/plain": [
       "FloatProgress(value=0.0, bar_style='info', description='Progress:', layout=Layout(height='25px', width='50%'),…"
      ]
     },
     "metadata": {},
     "output_type": "display_data"
    }
   ],
   "source": [
    "\n",
    "paymentSchemaOnRead = spark.read.csv(\n",
    "     's3a://udacity-dend/pagila/payment/payment.csv'\n",
    "    ,sep=';'\n",
    "    ,header=True\n",
    "    ,schema=paymentSchema    \n",
    ")"
   ]
  },
  {
   "cell_type": "code",
   "execution_count": 39,
   "metadata": {},
   "outputs": [
    {
     "data": {
      "application/vnd.jupyter.widget-view+json": {
       "model_id": "8ee63d0768f442619e53e71620ee143c",
       "version_major": 2,
       "version_minor": 0
      },
      "text/plain": [
       "VBox()"
      ]
     },
     "metadata": {},
     "output_type": "display_data"
    },
    {
     "data": {
      "application/vnd.jupyter.widget-view+json": {
       "model_id": "",
       "version_major": 2,
       "version_minor": 0
      },
      "text/plain": [
       "FloatProgress(value=0.0, bar_style='info', description='Progress:', layout=Layout(height='25px', width='50%'),…"
      ]
     },
     "metadata": {},
     "output_type": "display_data"
    },
    {
     "name": "stdout",
     "output_type": "stream",
     "text": [
      "+----------+-----------+--------+---------+------+------------+\n",
      "|payment_id|customer_id|staff_id|rental_id|amount|payment_date|\n",
      "+----------+-----------+--------+---------+------+------------+\n",
      "|16050     |269        |2       |7        |1.99  |2017-01-24  |\n",
      "|16051     |269        |1       |98       |0.99  |2017-01-25  |\n",
      "|16052     |269        |2       |678      |6.99  |2017-01-28  |\n",
      "|16053     |269        |2       |703      |0.99  |2017-01-29  |\n",
      "|16054     |269        |1       |750      |4.99  |2017-01-29  |\n",
      "+----------+-----------+--------+---------+------+------------+\n",
      "only showing top 5 rows"
     ]
    }
   ],
   "source": [
    "paymentSchemaOnRead.show(n=5,truncate=False)"
   ]
  },
  {
   "cell_type": "code",
   "execution_count": 40,
   "metadata": {},
   "outputs": [
    {
     "data": {
      "application/vnd.jupyter.widget-view+json": {
       "model_id": "ecd6b128bb3a4de9a221d15f26b3400c",
       "version_major": 2,
       "version_minor": 0
      },
      "text/plain": [
       "VBox()"
      ]
     },
     "metadata": {},
     "output_type": "display_data"
    },
    {
     "data": {
      "application/vnd.jupyter.widget-view+json": {
       "model_id": "",
       "version_major": 2,
       "version_minor": 0
      },
      "text/plain": [
       "FloatProgress(value=0.0, bar_style='info', description='Progress:', layout=Layout(height='25px', width='50%'),…"
      ]
     },
     "metadata": {},
     "output_type": "display_data"
    },
    {
     "name": "stdout",
     "output_type": "stream",
     "text": [
      "root\n",
      " |-- payment_id: integer (nullable = true)\n",
      " |-- customer_id: integer (nullable = true)\n",
      " |-- staff_id: integer (nullable = true)\n",
      " |-- rental_id: integer (nullable = true)\n",
      " |-- amount: double (nullable = true)\n",
      " |-- payment_date: date (nullable = true)"
     ]
    }
   ],
   "source": [
    "paymentSchemaOnRead.printSchema()"
   ]
  },
  {
   "cell_type": "code",
   "execution_count": null,
   "metadata": {},
   "outputs": [],
   "source": []
  }
 ],
 "metadata": {
  "kernelspec": {
   "display_name": "PySpark",
   "language": "",
   "name": "pysparkkernel"
  },
  "language_info": {
   "codemirror_mode": {
    "name": "python",
    "version": 2
   },
   "mimetype": "text/x-python",
   "name": "pyspark",
   "pygments_lexer": "python2"
  }
 },
 "nbformat": 4,
 "nbformat_minor": 4
}
