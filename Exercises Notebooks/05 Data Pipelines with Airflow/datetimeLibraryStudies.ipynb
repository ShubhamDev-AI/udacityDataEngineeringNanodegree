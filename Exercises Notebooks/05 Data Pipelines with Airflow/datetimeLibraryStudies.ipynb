{
 "cells": [
  {
   "cell_type": "markdown",
   "metadata": {},
   "source": [
    "# Related Python Libraries Studies\n",
    "\n",
    "## [`datetime`](<https://docs.python.org/3/library/datetime.html#module-datetime>)\n",
    "\n",
    "Objects exploration and testing"
   ]
  },
  {
   "cell_type": "code",
   "execution_count": 1,
   "metadata": {},
   "outputs": [],
   "source": [
    "import datetime"
   ]
  },
  {
   "cell_type": "markdown",
   "metadata": {},
   "source": [
    "## the [`timedelta()`](<https://docs.python.org/3/library/datetime.html#datetime.timedelta>) class  \n",
    "> A timedelta object represents a duration, the difference between two dates or times.\n",
    "\n",
    "Notice how 60.000 milliseconds are automatically converted to 1 minute"
   ]
  },
  {
   "cell_type": "code",
   "execution_count": 2,
   "metadata": {},
   "outputs": [
    {
     "name": "stdout",
     "output_type": "stream",
     "text": [
      "deltaObject contents: 0:01:00\n",
      "deltaObject type: <class 'datetime.timedelta'>\n"
     ]
    }
   ],
   "source": [
    "deltaObject = datetime.timedelta(milliseconds=60000)\n",
    "\n",
    "print('deltaObject contents:',deltaObject)\n",
    "print('deltaObject type:',type(deltaObject))"
   ]
  },
  {
   "cell_type": "markdown",
   "metadata": {},
   "source": [
    "## the [`date()`](<https://docs.python.org/3/library/datetime.html#date-objects>) class\n",
    "> A date object represents a date (year, month and day) in an idealized calendar, the current Gregorian calendar indefinitely extended in both directions (from date 0001/01/01 up to 9999/12/31)."
   ]
  },
  {
   "cell_type": "code",
   "execution_count": 3,
   "metadata": {},
   "outputs": [
    {
     "name": "stdout",
     "output_type": "stream",
     "text": [
      "dateObject contents: 2020-01-01\n",
      "dateObject type: <class 'datetime.date'>\n"
     ]
    }
   ],
   "source": [
    "dateObject = datetime.date(year=2020,month=1,day=1)\n",
    "\n",
    "print('dateObject contents:',dateObject,)\n",
    "\n",
    "print('dateObject type:',type(dateObject))"
   ]
  },
  {
   "cell_type": "markdown",
   "metadata": {},
   "source": [
    "### `date()` class method and attribute examples\n",
    "include the `today()` method, and both `month()` and `year()` attributes, among others"
   ]
  },
  {
   "cell_type": "code",
   "execution_count": 4,
   "metadata": {},
   "outputs": [
    {
     "name": "stdout",
     "output_type": "stream",
     "text": [
      "currentDate contents: 2020-01-01\n",
      "currentDate.month: 5\n",
      "currentDate.year: 2020\n"
     ]
    }
   ],
   "source": [
    "currentDate = datetime.date.today()\n",
    "\n",
    "print('currentDate contents:',dateObject)\n",
    "\n",
    "print('currentDate.month:',currentDate.month)\n",
    "\n",
    "print('currentDate.year:',currentDate.year)"
   ]
  },
  {
   "cell_type": "markdown",
   "metadata": {},
   "source": [
    "## the [`datetime()`](<https://docs.python.org/3/library/datetime.html#datetime.datetime>) class  \n",
    "> \"... a single object containing all the information from a date object and a time object.\"  \n",
    "  \n",
    "> Like a `date` object, `datetime` assumes the current Gregorian calendar extended in both directions; like a `time` object, `datetime` assumes there are exactly 3600\\*24 (*86400*) seconds in every day.  \n",
    "\n",
    "> *class* datetime.**datetime**(year, month, day, hour=0, minute=0, second=0, microsecond=0, tzinfo=None, *, fold=0)  \n",
    "\n",
    "**BEWARE** the *year*, *month* and *day* arguments are mandatory.\n",
    "\n",
    "> NOTES: a `microsecond` equals one-millionth of a second, or 1/1000000 (this ranges from 0 to 999.999)"
   ]
  },
  {
   "cell_type": "code",
   "execution_count": 5,
   "metadata": {},
   "outputs": [
    {
     "name": "stdout",
     "output_type": "stream",
     "text": [
      "timestampInput contents: 2020-05-01 12:30:59.000001\n"
     ]
    }
   ],
   "source": [
    "timestampInput = datetime.datetime(2020,5,1,12,30,59,1)\n",
    "\n",
    "print('timestampInput contents:',timestampInput)"
   ]
  },
  {
   "cell_type": "markdown",
   "metadata": {},
   "source": [
    "### use `datetime.datetime.now(tz=datetime.timezone.utc)`\n",
    "to get a timezone-aware `datetime` object containing the current timestamp"
   ]
  },
  {
   "cell_type": "code",
   "execution_count": 6,
   "metadata": {},
   "outputs": [
    {
     "name": "stdout",
     "output_type": "stream",
     "text": [
      "2020-05-01 15:15:36.439121\n",
      "None\n",
      "2020-05-01 18:15:36.439121\n",
      "None\n",
      "2020-05-01 18:15:36.439121+00:00\n",
      "UTC\n"
     ]
    }
   ],
   "source": [
    "timestampCapture, naiveTsCapture, awareTsCapture = \\\n",
    "    datetime.datetime.now(), datetime.datetime.utcnow(), datetime.datetime.now(tz=datetime.timezone.utc)\n",
    "\n",
    "# object output to console\n",
    "print(timestampCapture)\n",
    "\n",
    "# Notice it is a Timezone Naive datetime object\n",
    "print(timestampCapture.tzinfo)\n",
    "\n",
    "# even though \"datetime.utcnow()\" has been used, it returns a Naive datetime object\n",
    "print(naiveTsCapture)\n",
    "\n",
    "print(naiveTsCapture.tzinfo)\n",
    "\n",
    "# Below is an example of a Timezone Aware datetime object\n",
    "print(awareTsCapture)\n",
    "\n",
    "print(awareTsCapture.tzinfo)"
   ]
  },
  {
   "cell_type": "markdown",
   "metadata": {},
   "source": [
    "### the [\"pytz\" library docs](<https://pypi.org/project/pytz/>)"
   ]
  },
  {
   "cell_type": "markdown",
   "metadata": {},
   "source": [
    "### convert unix epoch values to human readable timestamps\n",
    "with the `datetime.datetime` `fromtimestamp()` and `utcfromtimestamp()` functions  \n",
    "\n",
    "> Notice both resulting objects are still timezone-naive"
   ]
  },
  {
   "cell_type": "code",
   "execution_count": 19,
   "metadata": {},
   "outputs": [
    {
     "name": "stdout",
     "output_type": "stream",
     "text": [
      "<class 'datetime.datetime'>\n",
      "2020-05-01 15:20:07\n",
      "None\n"
     ]
    },
    {
     "data": {
      "text/plain": [
       "datetime.datetime(2020, 5, 1, 15, 20, 7)"
      ]
     },
     "execution_count": 19,
     "metadata": {},
     "output_type": "execute_result"
    }
   ],
   "source": [
    "unixValue = 1588357207\n",
    "\n",
    "unixTimestamp = datetime.datetime.fromtimestamp(unixValue)\n",
    "\n",
    "print(unixTimestamp)\n",
    "\n",
    "print(unixTimestamp.tzinfo)\n",
    "\n",
    "unixTimestamp"
   ]
  },
  {
   "cell_type": "code",
   "execution_count": 15,
   "metadata": {},
   "outputs": [
    {
     "name": "stdout",
     "output_type": "stream",
     "text": [
      "2020-05-01 18:20:07\n",
      "None\n"
     ]
    },
    {
     "data": {
      "text/plain": [
       "datetime.datetime(2020, 5, 1, 18, 20, 7)"
      ]
     },
     "execution_count": 15,
     "metadata": {},
     "output_type": "execute_result"
    }
   ],
   "source": [
    "utcUnixTimestamp = datetime.datetime.utcfromtimestamp(unixValue)\n",
    "\n",
    "print(utcUnixTimestamp)\n",
    "\n",
    "print(utcUnixTimestamp.tzinfo)\n",
    "\n",
    "datetime.datetime.utcfromtimestamp(unixValue)"
   ]
  },
  {
   "cell_type": "markdown",
   "metadata": {},
   "source": [
    "### obtain unix epoch values\n",
    "with the `timestamp()` function.  \n",
    "\n",
    "> Notice how `timestamp()` receives a `datetime` object as input"
   ]
  },
  {
   "cell_type": "code",
   "execution_count": 20,
   "metadata": {},
   "outputs": [
    {
     "data": {
      "text/plain": [
       "1588368916.827978"
      ]
     },
     "execution_count": 20,
     "metadata": {},
     "output_type": "execute_result"
    }
   ],
   "source": [
    "datetime.datetime.timestamp(datetime.datetime.utcnow())"
   ]
  },
  {
   "cell_type": "markdown",
   "metadata": {},
   "source": [
    "### `datetime.datetime.strftime()` \n",
    "function behavior can be found [HERE](<https://docs.python.org/3/library/datetime.html#strftime-strptime-behavior>)"
   ]
  },
  {
   "cell_type": "markdown",
   "metadata": {},
   "source": [
    "## the [`time()` class](<https://docs.python.org/3/library/datetime.html#datetime.time>)  \n",
    "\n",
    "> A time object represents a (local) time of day, independent of any particular day, and subject to adjustment via a tzinfo object.  \n",
    "\n",
    "> *class* datetime.**time**(hour=0, minute=0, second=0, microsecond=0, tzinfo=None, *, fold=0)  \n",
    "\n",
    "All arguments are optional."
   ]
  },
  {
   "cell_type": "code",
   "execution_count": 23,
   "metadata": {},
   "outputs": [
    {
     "data": {
      "text/plain": [
       "datetime.time(15, 47, 23)"
      ]
     },
     "execution_count": 23,
     "metadata": {},
     "output_type": "execute_result"
    }
   ],
   "source": [
    "datetime.time(15,47,23)"
   ]
  },
  {
   "cell_type": "markdown",
   "metadata": {},
   "source": [
    "## the [`timezone` class](<https://docs.python.org/3/library/datetime.html#datetime.timezone>)  \n",
    "\n",
    "> The timezone class is a subclass of `tzinfo`, each instance of which represents a timezone defined by a fixed offset from UTC.  \n",
    "\n",
    "### Visit the [IANA Time Zone Database Webpage](<https://www.iana.org/time-zones>)"
   ]
  },
  {
   "cell_type": "code",
   "execution_count": 24,
   "metadata": {},
   "outputs": [
    {
     "data": {
      "text/plain": [
       "<method 'tzname' of 'datetime.timezone' objects>"
      ]
     },
     "execution_count": 24,
     "metadata": {},
     "output_type": "execute_result"
    }
   ],
   "source": [
    "datetime.timezone.tzname"
   ]
  }
 ],
 "metadata": {
  "kernelspec": {
   "display_name": "Python 3",
   "language": "python",
   "name": "python3"
  },
  "language_info": {
   "codemirror_mode": {
    "name": "ipython",
    "version": 3
   },
   "file_extension": ".py",
   "mimetype": "text/x-python",
   "name": "python",
   "nbconvert_exporter": "python",
   "pygments_lexer": "ipython3",
   "version": "3.7.3"
  }
 },
 "nbformat": 4,
 "nbformat_minor": 2
}
