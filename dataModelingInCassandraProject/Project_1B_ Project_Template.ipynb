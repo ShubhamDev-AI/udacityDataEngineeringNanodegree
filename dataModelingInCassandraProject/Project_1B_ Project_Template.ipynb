{
 "cells": [
  {
   "cell_type": "markdown",
   "metadata": {
    "editable": true
   },
   "source": [
    "# Part I. ETL Pipeline for Pre-Processing the Files"
   ]
  },
  {
   "cell_type": "markdown",
   "metadata": {
    "editable": true
   },
   "source": [
    "## PLEASE RUN THE FOLLOWING CODE FOR PRE-PROCESSING THE FILES"
   ]
  },
  {
   "cell_type": "markdown",
   "metadata": {
    "editable": true
   },
   "source": [
    "#### Import Python packages "
   ]
  },
  {
   "cell_type": "code",
   "execution_count": 1,
   "metadata": {
    "editable": true
   },
   "outputs": [],
   "source": [
    "# Import Python packages \n",
    "import pandas as pd\n",
    "import cassandra\n",
    "import re\n",
    "import os\n",
    "import glob\n",
    "import numpy as np\n",
    "import json\n",
    "import csv"
   ]
  },
  {
   "cell_type": "markdown",
   "metadata": {
    "editable": true
   },
   "source": [
    "#### Creating list of filepaths to process original event csv data files"
   ]
  },
  {
   "cell_type": "code",
   "execution_count": 2,
   "metadata": {
    "editable": true
   },
   "outputs": [
    {
     "name": "stdout",
     "output_type": "stream",
     "text": [
      "/home/workspace\n"
     ]
    }
   ],
   "source": [
    "# checking your current working directory\n",
    "print(os.getcwd())\n",
    "\n",
    "# Get your current folder and subfolder event data\n",
    "filepath = os.getcwd() + '/event_data'\n",
    "\n",
    "# Create a for loop to create a list of files and collect each filepath\n",
    "for root, dirs, files in os.walk(filepath):\n",
    "    \n",
    "    # join the file path and roots with the subdirectories using glob\n",
    "    file_path_list = glob.glob(os.path.join(root,'*'))\n",
    "#     print(file_path_list)"
   ]
  },
  {
   "cell_type": "markdown",
   "metadata": {
    "editable": true
   },
   "source": [
    "#### Processing the files to create the data file csv that will be used for Apache Casssandra tables"
   ]
  },
  {
   "cell_type": "code",
   "execution_count": 3,
   "metadata": {
    "editable": true
   },
   "outputs": [
    {
     "name": "stdout",
     "output_type": "stream",
     "text": [
      "8056\n"
     ]
    }
   ],
   "source": [
    "# initiating an empty list of rows that will be generated from each file\n",
    "full_data_rows_list = [] \n",
    "    \n",
    "# for every filepath in the file path list \n",
    "for f in file_path_list:\n",
    "\n",
    "    # reading csv file \n",
    "    with open(f, 'r', encoding = 'utf8', newline='') as csvfile:\n",
    "        \n",
    "        # creating a csv reader object \n",
    "        csvreader = csv.reader(csvfile) \n",
    "        # skip header row\n",
    "        next(csvreader)\n",
    "        \n",
    "         # extracting each data row one by one and append it        \n",
    "        for line in csvreader:\n",
    "            # print(line)\n",
    "            full_data_rows_list.append(line) \n",
    "            \n",
    "# uncomment the code below if you would like to get total number of rows \n",
    "print(len(full_data_rows_list))\n",
    "# uncomment the code below if you would like to check to see what the list of event data rows will look like\n",
    "# print(full_data_rows_list)\n",
    "\n",
    "# creating a smaller event data csv file called event_datafile_full csv that will be used to insert data into the \\\n",
    "# Apache Cassandra tables\n",
    "csv.register_dialect('myDialect', quoting=csv.QUOTE_ALL, skipinitialspace=True)\n",
    "\n",
    "with open('event_datafile_new.csv', 'w', encoding = 'utf8', newline='') as f:\n",
    "    writer = csv.writer(f, dialect='myDialect')\n",
    "    writer.writerow(['artist','firstName','gender','itemInSession','lastName','length',\\\n",
    "                'level','location','sessionId','song','userId'])\n",
    "    for row in full_data_rows_list:\n",
    "        if (row[0] == ''):\n",
    "            continue\n",
    "        writer.writerow((row[0], row[2], row[3], row[4], row[5], row[6], row[7], row[8], row[12], row[13], row[16]))\n"
   ]
  },
  {
   "cell_type": "code",
   "execution_count": 4,
   "metadata": {
    "editable": true
   },
   "outputs": [
    {
     "name": "stdout",
     "output_type": "stream",
     "text": [
      "6821\n"
     ]
    }
   ],
   "source": [
    "# check the number of rows in your csv file\n",
    "with open('event_datafile_new.csv', 'r', encoding = 'utf8') as f:\n",
    "    print(sum(1 for line in f))"
   ]
  },
  {
   "cell_type": "markdown",
   "metadata": {
    "editable": true
   },
   "source": [
    "# Part II. Complete the Apache Cassandra coding portion of your project. \n",
    "\n",
    "## Now you are ready to work with the CSV file titled <font color=red>event_datafile_new.csv</font>, located within the Workspace directory.  The event_datafile_new.csv contains the following columns: \n",
    "- artist \n",
    "- firstName of user\n",
    "- gender of user\n",
    "- item number in session\n",
    "- last name of user\n",
    "- length of the song\n",
    "- level (paid or free song)\n",
    "- location of the user\n",
    "- sessionId\n",
    "- song title\n",
    "- userId\n",
    "\n",
    "The image below is a screenshot of what the denormalized data should appear like in the <font color=red>**event_datafile_new.csv**</font> after the code above is run:<br>\n",
    "\n",
    "<img src=\"images/image_event_datafile_new.jpg\">"
   ]
  },
  {
   "cell_type": "markdown",
   "metadata": {
    "editable": true
   },
   "source": [
    "## Begin writing your Apache Cassandra code in the cells below"
   ]
  },
  {
   "cell_type": "markdown",
   "metadata": {
    "editable": true
   },
   "source": [
    "#### A Cassandra `Cluster` instance\n",
    "is setup in the local machine by passing a single element list to the `contact_points=` Cluster parameter.  \n",
    "A `Session` is then obtained from the `Cluster` instance."
   ]
  },
  {
   "cell_type": "code",
   "execution_count": 5,
   "metadata": {
    "editable": true
   },
   "outputs": [],
   "source": [
    "from cassandra.cluster import Cluster\n",
    "cluster = Cluster(contact_points=['127.0.0.1'])\n",
    "\n",
    "session = cluster.connect()"
   ]
  },
  {
   "cell_type": "markdown",
   "metadata": {
    "editable": true
   },
   "source": [
    "#### the `udacity` Keyspace is created"
   ]
  },
  {
   "cell_type": "code",
   "execution_count": 6,
   "metadata": {
    "editable": true
   },
   "outputs": [],
   "source": [
    "try:\n",
    "    session.execute(\"\"\"\n",
    "        CREATE KEYSPACE IF NOT EXISTS\n",
    "            udacity\n",
    "            \n",
    "        WITH REPLICATION = {\n",
    "             'class': 'SimpleStrategy'\n",
    "            ,'replication_factor': 1\n",
    "        }\n",
    "    \"\"\")\n",
    "    \n",
    "except Exception as exception:\n",
    "    print(exception)"
   ]
  },
  {
   "cell_type": "markdown",
   "metadata": {
    "editable": true
   },
   "source": [
    "#### the `udacity` Keyspace\n",
    "is set as default for this Session"
   ]
  },
  {
   "cell_type": "code",
   "execution_count": 7,
   "metadata": {
    "editable": true
   },
   "outputs": [],
   "source": [
    "try:\n",
    "    session.set_keyspace('udacity')\n",
    "    \n",
    "except Exception as exception:\n",
    "    print(exception)"
   ]
  },
  {
   "cell_type": "markdown",
   "metadata": {
    "editable": true
   },
   "source": [
    "### Now we need to create tables to run the following queries. \n",
    "> Remember, with Apache Cassandra you model the database tables on the queries you want to run."
   ]
  },
  {
   "cell_type": "markdown",
   "metadata": {
    "editable": true
   },
   "source": [
    "## QUESTION: create queries to ask the following three questions of the data\n",
    "\n",
    " 1. Give me the artist, song title and song's length in the music app history that was heard during  sessionId = 338, and itemInSession  = 4\n",
    "\n",
    "\n",
    " 2. Give me only the following: name of artist, song (sorted by itemInSession) and user (first and last name) for userid = 10, sessionid = 182\n",
    "    \n",
    "\n",
    " 3. Give me every user name (first and last) in my music app history who listened to the song 'All Hands Against His Own'\n",
    "\n",
    "\n"
   ]
  },
  {
   "cell_type": "markdown",
   "metadata": {
    "editable": true
   },
   "source": [
    "### ANSWER: for each of the queries above, a table will be created:\n",
    "\n",
    "* Query 1 → the `session_activities` table will be modeled to answer this question;\n",
    "* Query 2 → will be answered by the `user_activities` table;\n",
    "* Query 3 → the `song_audience` table will be used to answer this question;  \n",
    "  \n",
    "First, two functions to execute CQL statements are defined.  \n",
    "  \n",
    "Then, all `DROP TABLE` and `CREATE TABLE` statements are declared in the next two cells"
   ]
  },
  {
   "cell_type": "code",
   "execution_count": 8,
   "metadata": {
    "editable": true
   },
   "outputs": [],
   "source": [
    "def execute_statements(statement_list):\n",
    "    \"\"\" Sequentially executes the list of CQL statements received.\"\"\"\n",
    "    \n",
    "    message = \"Statements execution succesfully completed.\"\n",
    "    \n",
    "    for statement in statement_list:\n",
    "            \n",
    "        try:\n",
    "            session.execute(statement)\n",
    "        except Exception as exception:\n",
    "            print(exception)\n",
    "            message = \"Statement execution wasn't successful\"\n",
    "            \n",
    "    print(message)\n",
    "    \n",
    "def select_and_exhibit_cassandra_data(select_statement):\n",
    "    \"\"\" Performs CQL SELECT statements and print its results.\"\"\"\n",
    "    \n",
    "    try:\n",
    "        rows = session.execute(select_statement)       \n",
    "    except Exception as exception:\n",
    "        print(exception)\n",
    "\n",
    "    for row in rows:\n",
    "        print(row)\n",
    "        "
   ]
  },
  {
   "cell_type": "markdown",
   "metadata": {
    "editable": true
   },
   "source": [
    "#### `DROP TABLE` statements are set\n",
    "to clear keyspace objects when necessary"
   ]
  },
  {
   "cell_type": "code",
   "execution_count": 9,
   "metadata": {
    "editable": true
   },
   "outputs": [
    {
     "name": "stdout",
     "output_type": "stream",
     "text": [
      "Statements execution succesfully completed.\n"
     ]
    }
   ],
   "source": [
    "\n",
    "drop_table_session_activities = \"\"\"\n",
    "    DROP TABLE IF EXISTS\n",
    "        udacity.session_activities\n",
    "    ;\n",
    "\"\"\"\n",
    "\n",
    "drop_table_user_activities = \"\"\"\n",
    "    DROP TABLE IF EXISTS\n",
    "        udacity.user_activities\n",
    "    ;\n",
    "\"\"\"\n",
    "\n",
    "drop_table_song_audience = \"\"\"\n",
    "    DROP TABLE IF EXISTS\n",
    "        udacity.song_audience\n",
    "    ;\n",
    "\"\"\"\n",
    "\n",
    "all_drop_table_statements = list((drop_table_session_activities, drop_table_user_activities, drop_table_song_audience))\n",
    "\n",
    "# a function is called to execute all DROP TABLE statements\n",
    "execute_statements(all_drop_table_statements)"
   ]
  },
  {
   "cell_type": "markdown",
   "metadata": {
    "editable": true
   },
   "source": [
    "#### `CREATE TABLE` statements\n",
    "are declared for the three tables involved in this exercise. All tables are then created at once.  \n",
    "  \n",
    "**Modeling rationale:**  \n",
    "  \n",
    "* `session_acitivities (query 1)` **COMPOSITE PRIMARY KEY made of** → PARTITION KEY set to \"session_id\" and \"item_in_session\" as they are present in the `SELECT` statement's `WHERE` clause: they're the criteria used to filter our results. CLUSTERING COLUMNS were set to \"artist_name\" and \"song_title\" to sort the data according to these two columns.  \n",
    "  \n",
    "  \n",
    "* `user_activities (query 2)` **COMPOSITE PRIMARY KEY made of** → PARTITION KEY set to \"user_id\" and \"session_id\" because they're criteria to retrieve our results, used in the `SELECT` statement's `WHERE` clause. CLUSTERING COLUMN was set to \"item_in_session\" to sort session events in ascending order.  \n",
    "  \n",
    "  \n",
    "* `song_audience (query 3)` **COMPOSITE PRIMARY KEY made of** → PARTITION KEY set to \"song_title\" as this is the attribute we'll be filtering to obtain results. \"user_id\" has been set to CLUSTERING COLUMN not only for the partition data to be sorted upon it, but also to make sure each row has a unique PRIMARY KEY."
   ]
  },
  {
   "cell_type": "code",
   "execution_count": 10,
   "metadata": {
    "editable": true
   },
   "outputs": [
    {
     "name": "stdout",
     "output_type": "stream",
     "text": [
      "Statements execution succesfully completed.\n"
     ]
    }
   ],
   "source": [
    "\n",
    "create_table_session_activites = \"\"\"\n",
    "    CREATE TABLE IF NOT EXISTS\n",
    "        udacity.session_activities(        \n",
    "             session_id INT\n",
    "            ,item_in_session INT\n",
    "            ,artist_name TEXT\n",
    "            ,song_title TEXT\n",
    "            ,song_length FLOAT        \n",
    "            \n",
    "            ,PRIMARY KEY(\n",
    "                 (session_id, item_in_session)\n",
    "                ,artist_name\n",
    "                ,song_title\n",
    "                )\n",
    "        )\n",
    "    ;\n",
    "\"\"\"\n",
    "\n",
    "create_table_user_activities = \"\"\"\n",
    "    CREATE TABLE IF NOT EXISTS\n",
    "        udacity.user_activities(\n",
    "             user_id INT\n",
    "            ,session_id INT\n",
    "            ,item_in_session INT\n",
    "            ,user_first_name TEXT\n",
    "            ,user_last_name TEXT\n",
    "            ,artist_name TEXT\n",
    "            ,song_title TEXT\n",
    "            \n",
    "            ,PRIMARY KEY(\n",
    "                 (user_id, session_id)\n",
    "                ,item_in_session\n",
    "            )\n",
    "        )\n",
    "    ;\n",
    "\"\"\"\n",
    "\n",
    "create_table_song_audience = \"\"\"\n",
    "    CREATE TABLE IF NOT EXISTS\n",
    "        udacity.song_audience(\n",
    "                 song_title TEXT\n",
    "                ,user_id INT\n",
    "                ,user_first_name TEXT\n",
    "                ,user_last_name TEXT\n",
    "                \n",
    "                ,PRIMARY KEY(song_title, user_id)\n",
    "            )\n",
    "    ;\n",
    "\"\"\"\n",
    "\n",
    "all_create_table_statements = list((create_table_session_activites, create_table_user_activities, create_table_song_audience))\n",
    "\n",
    "# a function is called to execute all CREATE TABLE statements\n",
    "execute_statements(all_create_table_statements)      "
   ]
  },
  {
   "cell_type": "markdown",
   "metadata": {
    "editable": true
   },
   "source": [
    "### **QUERY 1** \n",
    "#### the `INSERT INTO` statement\n",
    "is created and executed for the `session_activities` table"
   ]
  },
  {
   "cell_type": "code",
   "execution_count": 11,
   "metadata": {
    "editable": true
   },
   "outputs": [],
   "source": [
    "insert_into_session_activities = \"\"\"\n",
    "    INSERT INTO\n",
    "        udacity.session_activities(\n",
    "             session_id\n",
    "            ,item_in_session\n",
    "            ,artist_name\n",
    "            ,song_title\n",
    "            ,song_length\n",
    "        )\n",
    "    VALUES(\n",
    "         %s\n",
    "        ,%s\n",
    "        ,%s\n",
    "        ,%s\n",
    "        ,%s\n",
    "    );\n",
    "\"\"\"\n",
    "\n",
    "file = 'event_datafile_new.csv'\n",
    "\n",
    "with open(file, encoding = 'utf8') as f:\n",
    "    \n",
    "    csvreader = csv.reader(f)\n",
    "    next(csvreader) # skip header\n",
    "    \n",
    "    for line in csvreader:\n",
    "\n",
    "        session.execute(insert_into_session_activities, (int(line[8]), int(line[3]), line[0], line[9], float(line[5])))"
   ]
  },
  {
   "cell_type": "markdown",
   "metadata": {
    "editable": true
   },
   "source": [
    "#### a `SELECT` statement is performed\n",
    "to answer the first question."
   ]
  },
  {
   "cell_type": "code",
   "execution_count": 12,
   "metadata": {
    "editable": true,
    "scrolled": true
   },
   "outputs": [
    {
     "name": "stdout",
     "output_type": "stream",
     "text": [
      "Row(artist_name='Faithless', song_title='Music Matters (Mark Knight Dub)', song_length=495.30731201171875)\n"
     ]
    }
   ],
   "source": [
    "select_session_activities = \"\"\"\n",
    "    SELECT\n",
    "         artist_name\n",
    "        ,song_title\n",
    "        ,song_length\n",
    "    FROM\n",
    "        udacity.session_activities\n",
    "    WHERE\n",
    "        session_id = 338\n",
    "        AND\n",
    "        item_in_session = 4\n",
    "    ;        \n",
    "\"\"\"\n",
    "\n",
    "# the UDF to retrieve data is called\n",
    "select_and_exhibit_cassandra_data(select_session_activities)"
   ]
  },
  {
   "cell_type": "markdown",
   "metadata": {
    "editable": true
   },
   "source": [
    "### QUERY 2 \n",
    "#### `INSERT INTO user_activities` statement\n",
    "is declared and performed below:"
   ]
  },
  {
   "cell_type": "code",
   "execution_count": 13,
   "metadata": {
    "editable": true
   },
   "outputs": [],
   "source": [
    "\n",
    "insert_into_user_activities = \"\"\"\n",
    "    INSERT INTO\n",
    "        udacity.user_activities(\n",
    "             user_id\n",
    "            ,session_id\n",
    "            ,item_in_session\n",
    "            ,user_first_name\n",
    "            ,user_last_name\n",
    "            ,artist_name\n",
    "            ,song_title\n",
    "        )\n",
    "    VALUES(\n",
    "         %s\n",
    "        ,%s\n",
    "        ,%s\n",
    "        ,%s\n",
    "        ,%s\n",
    "        ,%s\n",
    "        ,%s\n",
    "    );\n",
    "\"\"\"\n",
    "\n",
    "file = 'event_datafile_new.csv'\n",
    "\n",
    "with open(file, encoding = 'utf8') as f:\n",
    "    \n",
    "    csvreader = csv.reader(f)\n",
    "    next(csvreader) # skip header\n",
    "    \n",
    "    for line in csvreader:\n",
    "\n",
    "        session.execute(insert_into_user_activities, ( int(line[10])\n",
    "                                                      ,int(line[8])\n",
    "                                                      ,int(line[3])\n",
    "                                                      ,line[1]\n",
    "                                                      ,line[4]\n",
    "                                                      ,line[0]\n",
    "                                                      ,line[9]\n",
    "                                                     )\n",
    "                       )"
   ]
  },
  {
   "cell_type": "markdown",
   "metadata": {
    "editable": true
   },
   "source": [
    "#### the second question\n",
    "is then answered below:  \n",
    "> the `item_in_session` attribute's been added to explicitly show the sequence of events during the User's session"
   ]
  },
  {
   "cell_type": "code",
   "execution_count": 14,
   "metadata": {
    "editable": true
   },
   "outputs": [
    {
     "name": "stdout",
     "output_type": "stream",
     "text": [
      "Row(artist_name='Down To The Bone', item_in_session=0, song_title=\"Keep On Keepin' On\", user_first_name='Sylvie', user_last_name='Cruz')\n",
      "Row(artist_name='Three Drives', item_in_session=1, song_title='Greece 2000', user_first_name='Sylvie', user_last_name='Cruz')\n",
      "Row(artist_name='Sebastien Tellier', item_in_session=2, song_title='Kilometer', user_first_name='Sylvie', user_last_name='Cruz')\n",
      "Row(artist_name='Lonnie Gordon', item_in_session=3, song_title='Catch You Baby (Steve Pitron & Max Sanna Radio Edit)', user_first_name='Sylvie', user_last_name='Cruz')\n"
     ]
    }
   ],
   "source": [
    "select_user_activities = \"\"\"\n",
    "    SELECT\n",
    "         artist_name\n",
    "        ,item_in_session\n",
    "        ,song_title\n",
    "        ,user_first_name\n",
    "        ,user_last_name\n",
    "    FROM\n",
    "        udacity.user_activities\n",
    "    WHERE\n",
    "        user_id = 10\n",
    "        AND\n",
    "        session_id = 182\n",
    "    ;\n",
    "\"\"\"\n",
    "\n",
    "# the UDF to retrieve data is called\n",
    "select_and_exhibit_cassandra_data(select_user_activities)                  "
   ]
  },
  {
   "cell_type": "markdown",
   "metadata": {
    "editable": true
   },
   "source": [
    "### QUERY 3\n",
    "#### `INSERT INTO song_audience` table\n",
    "is declared and performed below:"
   ]
  },
  {
   "cell_type": "code",
   "execution_count": 15,
   "metadata": {
    "editable": true
   },
   "outputs": [],
   "source": [
    "\n",
    "insert_into_song_audience = \"\"\"\n",
    "    INSERT INTO\n",
    "        udacity.song_audience(\n",
    "             song_title\n",
    "            ,user_id\n",
    "            ,user_first_name\n",
    "            ,user_last_name\n",
    "        )\n",
    "    VALUES(\n",
    "         %s\n",
    "        ,%s\n",
    "        ,%s\n",
    "        ,%s\n",
    "    );\n",
    "\"\"\"\n",
    "\n",
    "file = 'event_datafile_new.csv'\n",
    "\n",
    "with open(file, encoding = 'utf8') as f:\n",
    "    \n",
    "    csvreader = csv.reader(f)\n",
    "    next(csvreader) # skip header\n",
    "    \n",
    "    for line in csvreader:\n",
    "\n",
    "        session.execute(insert_into_song_audience, (line[9], int(line[10]), line[1], line[4]))"
   ]
  },
  {
   "cell_type": "markdown",
   "metadata": {
    "editable": true
   },
   "source": [
    "#### the third query\n",
    "is then answered below:"
   ]
  },
  {
   "cell_type": "code",
   "execution_count": 16,
   "metadata": {
    "editable": true
   },
   "outputs": [
    {
     "name": "stdout",
     "output_type": "stream",
     "text": [
      "Row(user_first_name='Jacqueline', user_last_name='Lynch')\n",
      "Row(user_first_name='Tegan', user_last_name='Levine')\n",
      "Row(user_first_name='Sara', user_last_name='Johnson')\n"
     ]
    }
   ],
   "source": [
    "\n",
    "select_song_audience = \"\"\"\n",
    "    SELECT\n",
    "         user_first_name\n",
    "        ,user_last_name\n",
    "    FROM\n",
    "        udacity.song_audience\n",
    "    WHERE\n",
    "        song_title = 'All Hands Against His Own'\n",
    "    ;\n",
    "\"\"\"\n",
    "\n",
    "# the UDF to retrieve data is called\n",
    "select_and_exhibit_cassandra_data(select_song_audience)"
   ]
  },
  {
   "cell_type": "markdown",
   "metadata": {
    "editable": true
   },
   "source": [
    "### Drop the tables before closing out the sessions"
   ]
  },
  {
   "cell_type": "code",
   "execution_count": 17,
   "metadata": {
    "editable": true
   },
   "outputs": [
    {
     "name": "stdout",
     "output_type": "stream",
     "text": [
      "Statements execution succesfully completed.\n"
     ]
    }
   ],
   "source": [
    "# the function for sequential statement execution is called once more\n",
    "execute_statements(all_drop_table_statements)"
   ]
  },
  {
   "cell_type": "markdown",
   "metadata": {
    "editable": true
   },
   "source": [
    "### Close the session and cluster connection¶"
   ]
  },
  {
   "cell_type": "code",
   "execution_count": 18,
   "metadata": {
    "editable": true
   },
   "outputs": [],
   "source": [
    "session.shutdown()\n",
    "cluster.shutdown()"
   ]
  }
 ],
 "metadata": {
  "kernelspec": {
   "display_name": "Python 3",
   "language": "python",
   "name": "python3"
  },
  "language_info": {
   "codemirror_mode": {
    "name": "ipython",
    "version": 3
   },
   "file_extension": ".py",
   "mimetype": "text/x-python",
   "name": "python",
   "nbconvert_exporter": "python",
   "pygments_lexer": "ipython3",
   "version": "3.6.3"
  }
 },
 "nbformat": 4,
 "nbformat_minor": 4
}
