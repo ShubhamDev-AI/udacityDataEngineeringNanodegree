{
 "cells": [
  {
   "cell_type": "code",
   "execution_count": 1,
   "metadata": {},
   "outputs": [],
   "source": [
    "import pandas as pd\n",
    "import configparser\n",
    "import seaborn as sns\n",
    "import matplotlib.pyplot as plt\n",
    "from matplotlib_venn import venn2"
   ]
  },
  {
   "cell_type": "markdown",
   "metadata": {},
   "source": [
    "## Fetch database login credentials\n",
    "from the `dwh.cfg` file"
   ]
  },
  {
   "cell_type": "code",
   "execution_count": 2,
   "metadata": {},
   "outputs": [],
   "source": [
    "config = configparser.ConfigParser()\n",
    "config.read_file(open('dwh.cfg'))\n",
    "\n",
    "\n",
    "DB_NAME = config.get('cluster_settings','db_name')\n",
    "MASTER_USER_NAME = config.get('cluster_settings','master_user_name')\n",
    "MASTER_USER_PASSWORD = config.get('cluster_settings','master_user_password')\n",
    "PORT = config.get('cluster_settings','port')\n",
    "ENDPOINT = config.get('cluster_settings','endpoint')\n",
    "\n",
    "# connection string setup\n",
    "conn = f'postgresql://{MASTER_USER_NAME}:{MASTER_USER_PASSWORD}@{ENDPOINT}:{PORT}/{DB_NAME}'"
   ]
  },
  {
   "cell_type": "markdown",
   "metadata": {},
   "source": [
    "## Compare intersection of staging tables\n",
    "by their \"song/title\" and \"artist name\" attributes."
   ]
  },
  {
   "cell_type": "code",
   "execution_count": 3,
   "metadata": {},
   "outputs": [
    {
     "name": "stdout",
     "output_type": "stream",
     "text": [
      "fetching data from: staging.events.song\n",
      "fetching data from: staging.songs.title\n",
      "fetching data from: staging.events.artist\n",
      "fetching data from: staging.songs.artist_name\n",
      "data retrieval finished.\n"
     ]
    }
   ],
   "source": [
    "# set up a dictionary to iterate over and retrieve database data\n",
    "target_table_attribute = {\n",
    "     'staging.events':['song','artist']\n",
    "    ,'staging.songs':['title','artist_name']\n",
    "}\n",
    "\n",
    "# set up an empty dictionary to store data retrieval results\n",
    "response_dict = {}\n",
    "\n",
    "# first \"lock in\" target attributes to fetch data from\n",
    "for counter in range(2):\n",
    "\n",
    "    # then iterate over \"table,attribute\" pairs:\n",
    "    for table, attribute in target_table_attribute.items():\n",
    "\n",
    "        print('fetching data from:',table+'.'+attribute[counter])\n",
    "\n",
    "        sql_query =f\"\"\"\n",
    "            SELECT\n",
    "                {attribute[counter]}\n",
    "            FROM\n",
    "                {table}\n",
    "            WHERE\n",
    "                {attribute[counter]} IS NOT NULL\n",
    "        \"\"\"\n",
    "\n",
    "        # store data in the specified dictionary\n",
    "        response_dict[table+'.'+attribute[counter]] = pd.read_sql(sql_query,conn).iloc[:,0].unique().tolist()\n",
    "        \n",
    "print('data retrieval finished.')"
   ]
  },
  {
   "cell_type": "markdown",
   "metadata": {},
   "source": [
    "## Intersection of Song Titles\n",
    "in `songs` and `events` staging (raw data) tables.  \n",
    "**Comparison is done by song title strings (`song_id` is not present in both raw data tables).**\n",
    "> This explains the low number of matches when inserting data into the `fact_songplays` table."
   ]
  },
  {
   "cell_type": "code",
   "execution_count": 4,
   "metadata": {},
   "outputs": [
    {
     "data": {
      "text/plain": [
       "<matplotlib_venn._common.VennDiagram at 0x14b7a84f6d8>"
      ]
     },
     "execution_count": 4,
     "metadata": {},
     "output_type": "execute_result"
    },
    {
     "data": {
      "image/png": "[encoded data removed]",
      "text/plain": [
       "<Figure size 432x288 with 1 Axes>"
      ]
     },
     "metadata": {},
     "output_type": "display_data"
    }
   ],
   "source": [
    "venn2( [set(response_dict['staging.events.song'])\n",
    "       ,set(response_dict['staging.songs.title'])]\n",
    "      ,set_labels=['events','songs']\n",
    "     )"
   ]
  },
  {
   "cell_type": "markdown",
   "metadata": {},
   "source": [
    "## Intersection of Artists\n",
    "in both `songs` and `artists` staging (raw data) tables.  \n",
    "**Comparison is done by artist name strings, and not by artist id's.**\n",
    "> The reason for duplicate artist id's in the `dim_artist` dimension is given below."
   ]
  },
  {
   "cell_type": "code",
   "execution_count": 5,
   "metadata": {},
   "outputs": [
    {
     "data": {
      "text/plain": [
       "<matplotlib_venn._common.VennDiagram at 0x14b7a85f668>"
      ]
     },
     "execution_count": 5,
     "metadata": {},
     "output_type": "execute_result"
    },
    {
     "data": {
      "image/png": "[encoded data removed]",
      "text/plain": [
       "<Figure size 432x288 with 1 Axes>"
      ]
     },
     "metadata": {},
     "output_type": "display_data"
    }
   ],
   "source": [
    "venn2([set(response_dict['staging.events.artist'])\n",
    "     ,set(response_dict['staging.songs.artist_name'])]\n",
    "    ,set_labels=['events','songs']\n",
    ")"
   ]
  },
  {
   "cell_type": "markdown",
   "metadata": {},
   "source": [
    "## Duplicate `artist_id`'s may happen\n",
    "when a given song has the participation of another artist. Take a look at \"Snoop Dog\" below, for example.  \n",
    "> Despite duplicate `artist_id`'s, **surrogate keys** (`artist_key` in this example) **will mantain their uniqueness**. Attributes having `key` in their name are dimension tables Primary Keys."
   ]
  },
  {
   "cell_type": "code",
   "execution_count": 6,
   "metadata": {},
   "outputs": [
    {
     "data": {
      "text/html": [
       "<div>\n",
       "<style scoped>\n",
       "    .dataframe tbody tr th:only-of-type {\n",
       "        vertical-align: middle;\n",
       "    }\n",
       "\n",
       "    .dataframe tbody tr th {\n",
       "        vertical-align: top;\n",
       "    }\n",
       "\n",
       "    .dataframe thead th {\n",
       "        text-align: right;\n",
       "    }\n",
       "</style>\n",
       "<table border=\"1\" class=\"dataframe\">\n",
       "  <thead>\n",
       "    <tr style=\"text-align: right;\">\n",
       "      <th></th>\n",
       "      <th>artist_key</th>\n",
       "      <th>artist_id</th>\n",
       "      <th>name</th>\n",
       "      <th>location</th>\n",
       "      <th>latitude</th>\n",
       "      <th>longitude</th>\n",
       "    </tr>\n",
       "  </thead>\n",
       "  <tbody>\n",
       "    <tr>\n",
       "      <th>0</th>\n",
       "      <td>4575</td>\n",
       "      <td>ARZ5H0P1187B98A1DD</td>\n",
       "      <td>Snoop Dogg</td>\n",
       "      <td>Long Beach, CA</td>\n",
       "      <td>33.76672</td>\n",
       "      <td>-118.1924</td>\n",
       "    </tr>\n",
       "    <tr>\n",
       "      <th>1</th>\n",
       "      <td>9157</td>\n",
       "      <td>ARZ5H0P1187B98A1DD</td>\n",
       "      <td>Snoop Dogg / Stevie Wonder</td>\n",
       "      <td>Long Beach, CA</td>\n",
       "      <td>33.76672</td>\n",
       "      <td>-118.1924</td>\n",
       "    </tr>\n",
       "    <tr>\n",
       "      <th>2</th>\n",
       "      <td>481</td>\n",
       "      <td>ARZ5H0P1187B98A1DD</td>\n",
       "      <td>Snoop Dogg Featuring Warren G_ Mauseburg And N...</td>\n",
       "      <td>Long Beach, CA</td>\n",
       "      <td>33.76672</td>\n",
       "      <td>-118.1924</td>\n",
       "    </tr>\n",
       "    <tr>\n",
       "      <th>3</th>\n",
       "      <td>3335</td>\n",
       "      <td>ARZ5H0P1187B98A1DD</td>\n",
       "      <td>Snoop Dogg featuring Kid Cudi</td>\n",
       "      <td>Long Beach, CA</td>\n",
       "      <td>33.76672</td>\n",
       "      <td>-118.1924</td>\n",
       "    </tr>\n",
       "  </tbody>\n",
       "</table>\n",
       "</div>"
      ],
      "text/plain": [
       "   artist_key           artist_id  \\\n",
       "0        4575  ARZ5H0P1187B98A1DD   \n",
       "1        9157  ARZ5H0P1187B98A1DD   \n",
       "2         481  ARZ5H0P1187B98A1DD   \n",
       "3        3335  ARZ5H0P1187B98A1DD   \n",
       "\n",
       "                                                name        location  \\\n",
       "0                                         Snoop Dogg  Long Beach, CA   \n",
       "1                         Snoop Dogg / Stevie Wonder  Long Beach, CA   \n",
       "2  Snoop Dogg Featuring Warren G_ Mauseburg And N...  Long Beach, CA   \n",
       "3                      Snoop Dogg featuring Kid Cudi  Long Beach, CA   \n",
       "\n",
       "   latitude  longitude  \n",
       "0  33.76672  -118.1924  \n",
       "1  33.76672  -118.1924  \n",
       "2  33.76672  -118.1924  \n",
       "3  33.76672  -118.1924  "
      ]
     },
     "execution_count": 6,
     "metadata": {},
     "output_type": "execute_result"
    }
   ],
   "source": [
    "snoop_sql = \"\"\"\n",
    "    SELECT\n",
    "        *\n",
    "    FROM\n",
    "        public.dim_artists\n",
    "    WHERE\n",
    "        artist_id = 'ARZ5H0P1187B98A1DD'\n",
    "    ORDER BY\n",
    "        artist_key\n",
    "\"\"\"\n",
    "\n",
    "snoop_frame = pd.read_sql(\n",
    "     sql=snoop_sql\n",
    "    ,con=conn\n",
    ")\n",
    "\n",
    "snoop_frame.head()"
   ]
  },
  {
   "cell_type": "markdown",
   "metadata": {},
   "source": [
    "## Table row counts\n",
    "for each table generated during this project:"
   ]
  },
  {
   "cell_type": "code",
   "execution_count": 5,
   "metadata": {},
   "outputs": [
    {
     "name": "stdout",
     "output_type": "stream",
     "text": [
      "fetching data from: staging.events\n",
      "fetching data from: staging.songs\n",
      "fetching data from: public.dim_songs\n",
      "fetching data from: public.dim_artists\n",
      "fetching data from: public.dim_users\n",
      "fetching data from: public.dim_time\n",
      "fetching data from: public.fact_songplays\n"
     ]
    },
    {
     "data": {
      "text/html": [
       "<div>\n",
       "<style scoped>\n",
       "    .dataframe tbody tr th:only-of-type {\n",
       "        vertical-align: middle;\n",
       "    }\n",
       "\n",
       "    .dataframe tbody tr th {\n",
       "        vertical-align: top;\n",
       "    }\n",
       "\n",
       "    .dataframe thead th {\n",
       "        text-align: right;\n",
       "    }\n",
       "</style>\n",
       "<table border=\"1\" class=\"dataframe\">\n",
       "  <thead>\n",
       "    <tr style=\"text-align: right;\">\n",
       "      <th></th>\n",
       "      <th>source_table</th>\n",
       "      <th>row_count</th>\n",
       "    </tr>\n",
       "  </thead>\n",
       "  <tbody>\n",
       "    <tr>\n",
       "      <th>0</th>\n",
       "      <td>staging.events</td>\n",
       "      <td>8056</td>\n",
       "    </tr>\n",
       "    <tr>\n",
       "      <th>1</th>\n",
       "      <td>staging.songs</td>\n",
       "      <td>14896</td>\n",
       "    </tr>\n",
       "    <tr>\n",
       "      <th>2</th>\n",
       "      <td>public.dim_songs</td>\n",
       "      <td>14896</td>\n",
       "    </tr>\n",
       "    <tr>\n",
       "      <th>3</th>\n",
       "      <td>public.dim_artists</td>\n",
       "      <td>10025</td>\n",
       "    </tr>\n",
       "    <tr>\n",
       "      <th>4</th>\n",
       "      <td>public.dim_users</td>\n",
       "      <td>106</td>\n",
       "    </tr>\n",
       "    <tr>\n",
       "      <th>5</th>\n",
       "      <td>public.dim_time</td>\n",
       "      <td>8023</td>\n",
       "    </tr>\n",
       "    <tr>\n",
       "      <th>6</th>\n",
       "      <td>public.fact_songplays</td>\n",
       "      <td>322</td>\n",
       "    </tr>\n",
       "  </tbody>\n",
       "</table>\n",
       "</div>"
      ],
      "text/plain": [
       "            source_table row_count\n",
       "0         staging.events      8056\n",
       "1          staging.songs     14896\n",
       "2       public.dim_songs     14896\n",
       "3     public.dim_artists     10025\n",
       "4       public.dim_users       106\n",
       "5        public.dim_time      8023\n",
       "6  public.fact_songplays       322"
      ]
     },
     "execution_count": 5,
     "metadata": {},
     "output_type": "execute_result"
    }
   ],
   "source": [
    "# create a list of target tables\n",
    "table_list = [\n",
    "     'staging.events'\n",
    "    ,'staging.songs'\n",
    "    ,'public.dim_songs'\n",
    "    ,'public.dim_artists'\n",
    "    ,'public.dim_users'\n",
    "    ,'public.dim_time'\n",
    "    ,'public.fact_songplays'\n",
    "]\n",
    "\n",
    "# define sql query\n",
    "metadata_sql =\"\"\"\n",
    "    SELECT\n",
    "         {table} AS record_source\n",
    "        ,COUNT(*) AS row_count\n",
    "    FROM\n",
    "        {table}\n",
    "\"\"\"\n",
    "\n",
    "# create an empty DataFrame\n",
    "metadata_frame = pd.DataFrame(columns=['source_table','row_count'])\n",
    "\n",
    "for table in table_list:\n",
    "    \n",
    "    print('fetching data from:',table)\n",
    "    \n",
    "    data = pd.read_sql(\n",
    "        sql=f\"\"\"\n",
    "            SELECT\n",
    "                 '{table}' AS source_table\n",
    "                ,COUNT(*) AS row_count\n",
    "            FROM\n",
    "                {table}\n",
    "        \"\"\"\n",
    "        ,con=conn\n",
    "    )\n",
    "    \n",
    "    metadata_frame = metadata_frame.append(\n",
    "         data\n",
    "        ,ignore_index=True\n",
    "        ,sort=False\n",
    "    )\n",
    "    \n",
    "\n",
    "metadata_frame"
   ]
  },
  {
   "cell_type": "markdown",
   "metadata": {},
   "source": [
    "## User subscription level history as Type 2 SCD\n",
    "User subscription level changes accross time are modeled with Type 2 Slowly Changing Dimension technique:  \n",
    "* each change in this attribute triggers the insertion of a new (with a new surrogate key for the user) in the table.  \n",
    "* these attributes receive timestamps indicating the timespan during which they are valid.  \n",
    "  \n",
    "This enables precise analysis of what signature level a user had when listened to a given song, for example.  \n",
    "  \n",
    "Take a look at user_id 15, \"Lily\" for example:"
   ]
  },
  {
   "cell_type": "code",
   "execution_count": 7,
   "metadata": {},
   "outputs": [
    {
     "data": {
      "text/html": [
       "<div>\n",
       "<style scoped>\n",
       "    .dataframe tbody tr th:only-of-type {\n",
       "        vertical-align: middle;\n",
       "    }\n",
       "\n",
       "    .dataframe tbody tr th {\n",
       "        vertical-align: top;\n",
       "    }\n",
       "\n",
       "    .dataframe thead th {\n",
       "        text-align: right;\n",
       "    }\n",
       "</style>\n",
       "<table border=\"1\" class=\"dataframe\">\n",
       "  <thead>\n",
       "    <tr style=\"text-align: right;\">\n",
       "      <th></th>\n",
       "      <th>user_key</th>\n",
       "      <th>user_id</th>\n",
       "      <th>first_name</th>\n",
       "      <th>level</th>\n",
       "      <th>level_valid_since</th>\n",
       "      <th>level_valid_until</th>\n",
       "      <th>is_current_user_level</th>\n",
       "      <th>time_spent_at_subscription_option</th>\n",
       "    </tr>\n",
       "  </thead>\n",
       "  <tbody>\n",
       "    <tr>\n",
       "      <th>0</th>\n",
       "      <td>1</td>\n",
       "      <td>15</td>\n",
       "      <td>Lily</td>\n",
       "      <td>paid</td>\n",
       "      <td>2018-11-02 09:01:21+00:00</td>\n",
       "      <td>2018-11-21 11:08:57+00:00</td>\n",
       "      <td>False</td>\n",
       "      <td>19 days 02:07:36</td>\n",
       "    </tr>\n",
       "    <tr>\n",
       "      <th>1</th>\n",
       "      <td>9</td>\n",
       "      <td>15</td>\n",
       "      <td>Lily</td>\n",
       "      <td>free</td>\n",
       "      <td>2018-11-21 11:08:57+00:00</td>\n",
       "      <td>2018-11-21 11:13:32+00:00</td>\n",
       "      <td>False</td>\n",
       "      <td>0 days 00:04:35</td>\n",
       "    </tr>\n",
       "    <tr>\n",
       "      <th>2</th>\n",
       "      <td>17</td>\n",
       "      <td>15</td>\n",
       "      <td>Lily</td>\n",
       "      <td>paid</td>\n",
       "      <td>2018-11-21 11:13:32+00:00</td>\n",
       "      <td>9999-12-31 23:59:59+00:00</td>\n",
       "      <td>True</td>\n",
       "      <td>451 days 01:55:28</td>\n",
       "    </tr>\n",
       "  </tbody>\n",
       "</table>\n",
       "</div>"
      ],
      "text/plain": [
       "   user_key  user_id first_name level         level_valid_since  \\\n",
       "0         1       15       Lily  paid 2018-11-02 09:01:21+00:00   \n",
       "1         9       15       Lily  free 2018-11-21 11:08:57+00:00   \n",
       "2        17       15       Lily  paid 2018-11-21 11:13:32+00:00   \n",
       "\n",
       "           level_valid_until  is_current_user_level  \\\n",
       "0  2018-11-21 11:08:57+00:00                  False   \n",
       "1  2018-11-21 11:13:32+00:00                  False   \n",
       "2  9999-12-31 23:59:59+00:00                   True   \n",
       "\n",
       "  time_spent_at_subscription_option  \n",
       "0                  19 days 02:07:36  \n",
       "1                   0 days 00:04:35  \n",
       "2                 451 days 01:55:28  "
      ]
     },
     "execution_count": 7,
     "metadata": {},
     "output_type": "execute_result"
    }
   ],
   "source": [
    "sql_subscription_timespan = \"\"\"\n",
    "    SELECT\n",
    "         user_key\n",
    "        ,user_id\n",
    "        ,first_name\n",
    "        ,\"level\"\n",
    "        ,level_valid_since\n",
    "        ,level_valid_until\n",
    "        ,is_current_user_level\n",
    "        \n",
    "        -- subscription validity timespan is calculated\n",
    "        ,CASE\n",
    "            WHEN\n",
    "                is_current_user_level = FALSE\n",
    "            THEN\n",
    "                level_valid_until - level_valid_since\n",
    "            ELSE\n",
    "                DATE_TRUNC('second',CURRENT_TIMESTAMP) - level_valid_since\n",
    "        END AS time_spent_at_subscription_option\n",
    "    FROM\n",
    "        public.dim_users\n",
    "    WHERE\n",
    "        user_id = 15\n",
    "    ORDER BY\n",
    "        level_valid_since\n",
    "\"\"\"\n",
    "\n",
    "df_subscription_timespan = pd.read_sql(\n",
    "     sql=sql_subscription_timespan\n",
    "    ,con=conn\n",
    ")\n",
    "\n",
    "df_subscription_timespan.head()"
   ]
  },
  {
   "cell_type": "markdown",
   "metadata": {},
   "source": [
    "## Songplays per User Gender\n",
    "below we see there are much more songplays for Female than Male users on the Sparkify platform."
   ]
  },
  {
   "cell_type": "code",
   "execution_count": 33,
   "metadata": {},
   "outputs": [
    {
     "data": {
      "text/plain": [
       "<matplotlib.axes._subplots.AxesSubplot at 0x1c2d4e81710>"
      ]
     },
     "execution_count": 33,
     "metadata": {},
     "output_type": "execute_result"
    },
    {
     "data": {
      "image/png": "[encoded data removed]",
      "text/plain": [
       "<Figure size 432x288 with 1 Axes>"
      ]
     },
     "metadata": {
      "needs_background": "light"
     },
     "output_type": "display_data"
    }
   ],
   "source": [
    "sql_gender_songplays = \"\"\"\n",
    "    SELECT\n",
    "         dim_users.gender\n",
    "        ,COUNT(1) AS songplay_count\n",
    "    FROM\n",
    "        public.fact_songplays AS fact_songplays\n",
    "    INNER JOIN\n",
    "        public.dim_users AS dim_users\n",
    "    ON\n",
    "        fact_songplays.user_key = dim_users.user_key\n",
    "    GROUP BY\n",
    "        dim_users.gender\n",
    "\"\"\"\n",
    "\n",
    "df_gender_songplays = pd.read_sql(\n",
    "    sql=sql_gender_songplays\n",
    "    ,con=conn\n",
    ")\n",
    "\n",
    "df_gender_songplays.plot(\n",
    "     kind='bar'\n",
    "    ,x='gender'\n",
    "    ,y='songplay_count'\n",
    "    ,color=['r','b']\n",
    "    ,title='Songplay Distribution per User Gender'\n",
    "    ,grid=True\n",
    ")"
   ]
  },
  {
   "cell_type": "markdown",
   "metadata": {},
   "source": [
    "## Users' actual subscription option\n",
    "Distribution of `free` and `paid` subscriptions"
   ]
  },
  {
   "cell_type": "code",
   "execution_count": 27,
   "metadata": {},
   "outputs": [
    {
     "data": {
      "text/plain": [
       "<matplotlib.axes._subplots.AxesSubplot at 0x1b7c0588978>"
      ]
     },
     "execution_count": 27,
     "metadata": {},
     "output_type": "execute_result"
    },
    {
     "data": {
      "image/png": "[encoded data removed]",
      "text/plain": [
       "<Figure size 360x360 with 1 Axes>"
      ]
     },
     "metadata": {
      "needs_background": "light"
     },
     "output_type": "display_data"
    }
   ],
   "source": [
    "sql_subscription_option = \"\"\"\n",
    "    SELECT\n",
    "         \"level\"\n",
    "        ,COUNT(\"level\") AS level_count\n",
    "    FROM\n",
    "        public.dim_users\n",
    "    WHERE\n",
    "        is_current_user_level = TRUE\n",
    "    GROUP BY\n",
    "        \"level\"\n",
    "\"\"\"\n",
    "\n",
    "df_subscription_option = pd.read_sql(\n",
    "     sql=sql_subscription_option\n",
    "    ,con=conn\n",
    ")\n",
    "\n",
    "df_subscription_option.plot(\n",
    "     kind='bar'\n",
    "    ,y='level_count'\n",
    "    ,x='level'\n",
    "    ,figsize=(5,5)\n",
    "    ,color=['b','g']\n",
    "    ,title='Current User Subscription Distribution'\n",
    "    ,legend=False\n",
    "    ,grid=True\n",
    ")"
   ]
  },
  {
   "cell_type": "markdown",
   "metadata": {},
   "source": [
    "## Users' gender distribution\n",
    "There are more Female than Male users.  \n",
    "This explains the distribution of songplays per gender we've previously seen."
   ]
  },
  {
   "cell_type": "code",
   "execution_count": 36,
   "metadata": {},
   "outputs": [
    {
     "data": {
      "text/plain": [
       "<matplotlib.axes._subplots.AxesSubplot at 0x1b7c0a39a90>"
      ]
     },
     "execution_count": 36,
     "metadata": {},
     "output_type": "execute_result"
    },
    {
     "data": {
      "image/png": "[encoded data removed]",
      "text/plain": [
       "<Figure size 432x288 with 1 Axes>"
      ]
     },
     "metadata": {
      "needs_background": "light"
     },
     "output_type": "display_data"
    }
   ],
   "source": [
    "sql_users_gender = \"\"\"\n",
    "    SELECT\n",
    "         gender\n",
    "        ,COUNT(1) AS gender_count\n",
    "    FROM\n",
    "        public.dim_users\n",
    "    WHERE\n",
    "        is_current_user_level = TRUE\n",
    "    GROUP BY\n",
    "        gender\n",
    "\"\"\"\n",
    "\n",
    "df_users_gender = pd.read_sql(\n",
    "     sql_user_genders\n",
    "    ,con=conn\n",
    ")\n",
    "\n",
    "df_users_gender.plot(\n",
    "     kind='barh'\n",
    "    ,x='gender'\n",
    "    ,y='gender_count'\n",
    "    ,color=['b','r']\n",
    "    ,grid=True\n",
    "    ,legend=False\n",
    "    ,title=\"Registered users' gender\"\n",
    ")"
   ]
  }
 ],
 "metadata": {
  "kernelspec": {
   "display_name": "Python 3",
   "language": "python",
   "name": "python3"
  },
  "language_info": {
   "codemirror_mode": {
    "name": "ipython",
    "version": 3
   },
   "file_extension": ".py",
   "mimetype": "text/x-python",
   "name": "python",
   "nbconvert_exporter": "python",
   "pygments_lexer": "ipython3",
   "version": "3.7.3"
  }
 },
 "nbformat": 4,
 "nbformat_minor": 2
}
